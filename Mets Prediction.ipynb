{
  "nbformat": 4,
  "nbformat_minor": 0,
  "metadata": {
    "colab": {
      "provenance": []
    },
    "kernelspec": {
      "name": "python3",
      "display_name": "Python 3"
    },
    "language_info": {
      "name": "python"
    }
  },
  "cells": [
    {
      "cell_type": "markdown",
      "source": [
        "# **PENGARUH SMOTE DAN ADASYN PADA KLASIFIKASI SINDROM METABOLIK**"
      ],
      "metadata": {
        "id": "oPcHO_ol0x6n"
      }
    },
    {
      "cell_type": "markdown",
      "source": [
        "impot library"
      ],
      "metadata": {
        "id": "KbzTQ0zZ0s7k"
      }
    },
    {
      "cell_type": "code",
      "source": [
        "import pandas as pd\n",
        "import numpy as np\n",
        "import matplotlib.pyplot as plt\n",
        "import seaborn as sns\n",
        "from pyspark.sql.functions import col\n",
        "from sklearn.preprocessing import LabelEncoder"
      ],
      "metadata": {
        "id": "l2UZqw8iXGnw"
      },
      "execution_count": null,
      "outputs": []
    },
    {
      "cell_type": "code",
      "source": [
        "from imblearn.over_sampling import SMOTE # library untuk balancing SMOTE\n",
        "from imblearn.over_sampling import ADASYN  # library untuk balancing ADASYN\n",
        "from sklearn.model_selection import train_test_split\n",
        "from sklearn.ensemble import RandomForestClassifier # library Random Forest sebagi algoritma klasifikasi\n",
        "from sklearn.metrics import accuracy_score, precision_score, recall_score, f1_score, classification_report # library untuk evaluasi model"
      ],
      "metadata": {
        "id": "0LmWOpIu3-hM"
      },
      "execution_count": null,
      "outputs": []
    },
    {
      "cell_type": "markdown",
      "source": [
        "# LOAD DATA"
      ],
      "metadata": {
        "id": "zhHB6giPmE3y"
      }
    },
    {
      "cell_type": "code",
      "source": [
        "url = 'https://drive.google.com/file/d/1O5_Htzqqc2C42jT0JJC9u6AgzKvuheMG/view?usp=sharing'\n",
        "df = pd.read_csv(f\"https://drive.google.com/uc?id={url.split('/')[-2]}\")"
      ],
      "metadata": {
        "id": "zYufReOwhpTW"
      },
      "execution_count": null,
      "outputs": []
    },
    {
      "cell_type": "code",
      "source": [
        "df.head()"
      ],
      "metadata": {
        "colab": {
          "base_uri": "https://localhost:8080/",
          "height": 226
        },
        "id": "ilOOtjXHhuw5",
        "outputId": "0ce2b300-bd44-4dbc-8dff-ff7c7c637d31"
      },
      "execution_count": null,
      "outputs": [
        {
          "output_type": "execute_result",
          "data": {
            "text/plain": [
              "    seqn  Age     Sex  Marital  Income   Race  WaistCirc   BMI  Albuminuria  \\\n",
              "0  62161   22    Male   Single  8200.0  White       81.0  23.3            0   \n",
              "1  62164   44  Female  Married  4500.0  White       80.1  23.2            0   \n",
              "2  62169   21    Male   Single   800.0  Asian       69.6  20.1            0   \n",
              "3  62172   43  Female   Single  2000.0  Black      120.4  33.3            0   \n",
              "4  62177   51    Male  Married     NaN  Asian       81.1  20.1            0   \n",
              "\n",
              "   UrAlbCr  UricAcid  BloodGlucose  HDL  Triglycerides MetabolicSyndrome  \n",
              "0     3.88       4.9            92   41             84         No MetSyn  \n",
              "1     8.55       4.5            82   28             56         No MetSyn  \n",
              "2     5.07       5.4           107   43             78         No MetSyn  \n",
              "3     5.22       5.0           104   73            141         No MetSyn  \n",
              "4     8.13       5.0            95   43            126         No MetSyn  "
            ],
            "text/html": [
              "\n",
              "  <div id=\"df-97f86373-fd97-4f0f-9225-b9e2b011fb46\" class=\"colab-df-container\">\n",
              "    <div>\n",
              "<style scoped>\n",
              "    .dataframe tbody tr th:only-of-type {\n",
              "        vertical-align: middle;\n",
              "    }\n",
              "\n",
              "    .dataframe tbody tr th {\n",
              "        vertical-align: top;\n",
              "    }\n",
              "\n",
              "    .dataframe thead th {\n",
              "        text-align: right;\n",
              "    }\n",
              "</style>\n",
              "<table border=\"1\" class=\"dataframe\">\n",
              "  <thead>\n",
              "    <tr style=\"text-align: right;\">\n",
              "      <th></th>\n",
              "      <th>seqn</th>\n",
              "      <th>Age</th>\n",
              "      <th>Sex</th>\n",
              "      <th>Marital</th>\n",
              "      <th>Income</th>\n",
              "      <th>Race</th>\n",
              "      <th>WaistCirc</th>\n",
              "      <th>BMI</th>\n",
              "      <th>Albuminuria</th>\n",
              "      <th>UrAlbCr</th>\n",
              "      <th>UricAcid</th>\n",
              "      <th>BloodGlucose</th>\n",
              "      <th>HDL</th>\n",
              "      <th>Triglycerides</th>\n",
              "      <th>MetabolicSyndrome</th>\n",
              "    </tr>\n",
              "  </thead>\n",
              "  <tbody>\n",
              "    <tr>\n",
              "      <th>0</th>\n",
              "      <td>62161</td>\n",
              "      <td>22</td>\n",
              "      <td>Male</td>\n",
              "      <td>Single</td>\n",
              "      <td>8200.0</td>\n",
              "      <td>White</td>\n",
              "      <td>81.0</td>\n",
              "      <td>23.3</td>\n",
              "      <td>0</td>\n",
              "      <td>3.88</td>\n",
              "      <td>4.9</td>\n",
              "      <td>92</td>\n",
              "      <td>41</td>\n",
              "      <td>84</td>\n",
              "      <td>No MetSyn</td>\n",
              "    </tr>\n",
              "    <tr>\n",
              "      <th>1</th>\n",
              "      <td>62164</td>\n",
              "      <td>44</td>\n",
              "      <td>Female</td>\n",
              "      <td>Married</td>\n",
              "      <td>4500.0</td>\n",
              "      <td>White</td>\n",
              "      <td>80.1</td>\n",
              "      <td>23.2</td>\n",
              "      <td>0</td>\n",
              "      <td>8.55</td>\n",
              "      <td>4.5</td>\n",
              "      <td>82</td>\n",
              "      <td>28</td>\n",
              "      <td>56</td>\n",
              "      <td>No MetSyn</td>\n",
              "    </tr>\n",
              "    <tr>\n",
              "      <th>2</th>\n",
              "      <td>62169</td>\n",
              "      <td>21</td>\n",
              "      <td>Male</td>\n",
              "      <td>Single</td>\n",
              "      <td>800.0</td>\n",
              "      <td>Asian</td>\n",
              "      <td>69.6</td>\n",
              "      <td>20.1</td>\n",
              "      <td>0</td>\n",
              "      <td>5.07</td>\n",
              "      <td>5.4</td>\n",
              "      <td>107</td>\n",
              "      <td>43</td>\n",
              "      <td>78</td>\n",
              "      <td>No MetSyn</td>\n",
              "    </tr>\n",
              "    <tr>\n",
              "      <th>3</th>\n",
              "      <td>62172</td>\n",
              "      <td>43</td>\n",
              "      <td>Female</td>\n",
              "      <td>Single</td>\n",
              "      <td>2000.0</td>\n",
              "      <td>Black</td>\n",
              "      <td>120.4</td>\n",
              "      <td>33.3</td>\n",
              "      <td>0</td>\n",
              "      <td>5.22</td>\n",
              "      <td>5.0</td>\n",
              "      <td>104</td>\n",
              "      <td>73</td>\n",
              "      <td>141</td>\n",
              "      <td>No MetSyn</td>\n",
              "    </tr>\n",
              "    <tr>\n",
              "      <th>4</th>\n",
              "      <td>62177</td>\n",
              "      <td>51</td>\n",
              "      <td>Male</td>\n",
              "      <td>Married</td>\n",
              "      <td>NaN</td>\n",
              "      <td>Asian</td>\n",
              "      <td>81.1</td>\n",
              "      <td>20.1</td>\n",
              "      <td>0</td>\n",
              "      <td>8.13</td>\n",
              "      <td>5.0</td>\n",
              "      <td>95</td>\n",
              "      <td>43</td>\n",
              "      <td>126</td>\n",
              "      <td>No MetSyn</td>\n",
              "    </tr>\n",
              "  </tbody>\n",
              "</table>\n",
              "</div>\n",
              "    <div class=\"colab-df-buttons\">\n",
              "\n",
              "  <div class=\"colab-df-container\">\n",
              "    <button class=\"colab-df-convert\" onclick=\"convertToInteractive('df-97f86373-fd97-4f0f-9225-b9e2b011fb46')\"\n",
              "            title=\"Convert this dataframe to an interactive table.\"\n",
              "            style=\"display:none;\">\n",
              "\n",
              "  <svg xmlns=\"http://www.w3.org/2000/svg\" height=\"24px\" viewBox=\"0 -960 960 960\">\n",
              "    <path d=\"M120-120v-720h720v720H120Zm60-500h600v-160H180v160Zm220 220h160v-160H400v160Zm0 220h160v-160H400v160ZM180-400h160v-160H180v160Zm440 0h160v-160H620v160ZM180-180h160v-160H180v160Zm440 0h160v-160H620v160Z\"/>\n",
              "  </svg>\n",
              "    </button>\n",
              "\n",
              "  <style>\n",
              "    .colab-df-container {\n",
              "      display:flex;\n",
              "      gap: 12px;\n",
              "    }\n",
              "\n",
              "    .colab-df-convert {\n",
              "      background-color: #E8F0FE;\n",
              "      border: none;\n",
              "      border-radius: 50%;\n",
              "      cursor: pointer;\n",
              "      display: none;\n",
              "      fill: #1967D2;\n",
              "      height: 32px;\n",
              "      padding: 0 0 0 0;\n",
              "      width: 32px;\n",
              "    }\n",
              "\n",
              "    .colab-df-convert:hover {\n",
              "      background-color: #E2EBFA;\n",
              "      box-shadow: 0px 1px 2px rgba(60, 64, 67, 0.3), 0px 1px 3px 1px rgba(60, 64, 67, 0.15);\n",
              "      fill: #174EA6;\n",
              "    }\n",
              "\n",
              "    .colab-df-buttons div {\n",
              "      margin-bottom: 4px;\n",
              "    }\n",
              "\n",
              "    [theme=dark] .colab-df-convert {\n",
              "      background-color: #3B4455;\n",
              "      fill: #D2E3FC;\n",
              "    }\n",
              "\n",
              "    [theme=dark] .colab-df-convert:hover {\n",
              "      background-color: #434B5C;\n",
              "      box-shadow: 0px 1px 3px 1px rgba(0, 0, 0, 0.15);\n",
              "      filter: drop-shadow(0px 1px 2px rgba(0, 0, 0, 0.3));\n",
              "      fill: #FFFFFF;\n",
              "    }\n",
              "  </style>\n",
              "\n",
              "    <script>\n",
              "      const buttonEl =\n",
              "        document.querySelector('#df-97f86373-fd97-4f0f-9225-b9e2b011fb46 button.colab-df-convert');\n",
              "      buttonEl.style.display =\n",
              "        google.colab.kernel.accessAllowed ? 'block' : 'none';\n",
              "\n",
              "      async function convertToInteractive(key) {\n",
              "        const element = document.querySelector('#df-97f86373-fd97-4f0f-9225-b9e2b011fb46');\n",
              "        const dataTable =\n",
              "          await google.colab.kernel.invokeFunction('convertToInteractive',\n",
              "                                                    [key], {});\n",
              "        if (!dataTable) return;\n",
              "\n",
              "        const docLinkHtml = 'Like what you see? Visit the ' +\n",
              "          '<a target=\"_blank\" href=https://colab.research.google.com/notebooks/data_table.ipynb>data table notebook</a>'\n",
              "          + ' to learn more about interactive tables.';\n",
              "        element.innerHTML = '';\n",
              "        dataTable['output_type'] = 'display_data';\n",
              "        await google.colab.output.renderOutput(dataTable, element);\n",
              "        const docLink = document.createElement('div');\n",
              "        docLink.innerHTML = docLinkHtml;\n",
              "        element.appendChild(docLink);\n",
              "      }\n",
              "    </script>\n",
              "  </div>\n",
              "\n",
              "\n",
              "    <div id=\"df-61dd9dcc-b14b-4676-905f-5d0f20f4f267\">\n",
              "      <button class=\"colab-df-quickchart\" onclick=\"quickchart('df-61dd9dcc-b14b-4676-905f-5d0f20f4f267')\"\n",
              "                title=\"Suggest charts\"\n",
              "                style=\"display:none;\">\n",
              "\n",
              "<svg xmlns=\"http://www.w3.org/2000/svg\" height=\"24px\"viewBox=\"0 0 24 24\"\n",
              "     width=\"24px\">\n",
              "    <g>\n",
              "        <path d=\"M19 3H5c-1.1 0-2 .9-2 2v14c0 1.1.9 2 2 2h14c1.1 0 2-.9 2-2V5c0-1.1-.9-2-2-2zM9 17H7v-7h2v7zm4 0h-2V7h2v10zm4 0h-2v-4h2v4z\"/>\n",
              "    </g>\n",
              "</svg>\n",
              "      </button>\n",
              "\n",
              "<style>\n",
              "  .colab-df-quickchart {\n",
              "      --bg-color: #E8F0FE;\n",
              "      --fill-color: #1967D2;\n",
              "      --hover-bg-color: #E2EBFA;\n",
              "      --hover-fill-color: #174EA6;\n",
              "      --disabled-fill-color: #AAA;\n",
              "      --disabled-bg-color: #DDD;\n",
              "  }\n",
              "\n",
              "  [theme=dark] .colab-df-quickchart {\n",
              "      --bg-color: #3B4455;\n",
              "      --fill-color: #D2E3FC;\n",
              "      --hover-bg-color: #434B5C;\n",
              "      --hover-fill-color: #FFFFFF;\n",
              "      --disabled-bg-color: #3B4455;\n",
              "      --disabled-fill-color: #666;\n",
              "  }\n",
              "\n",
              "  .colab-df-quickchart {\n",
              "    background-color: var(--bg-color);\n",
              "    border: none;\n",
              "    border-radius: 50%;\n",
              "    cursor: pointer;\n",
              "    display: none;\n",
              "    fill: var(--fill-color);\n",
              "    height: 32px;\n",
              "    padding: 0;\n",
              "    width: 32px;\n",
              "  }\n",
              "\n",
              "  .colab-df-quickchart:hover {\n",
              "    background-color: var(--hover-bg-color);\n",
              "    box-shadow: 0 1px 2px rgba(60, 64, 67, 0.3), 0 1px 3px 1px rgba(60, 64, 67, 0.15);\n",
              "    fill: var(--button-hover-fill-color);\n",
              "  }\n",
              "\n",
              "  .colab-df-quickchart-complete:disabled,\n",
              "  .colab-df-quickchart-complete:disabled:hover {\n",
              "    background-color: var(--disabled-bg-color);\n",
              "    fill: var(--disabled-fill-color);\n",
              "    box-shadow: none;\n",
              "  }\n",
              "\n",
              "  .colab-df-spinner {\n",
              "    border: 2px solid var(--fill-color);\n",
              "    border-color: transparent;\n",
              "    border-bottom-color: var(--fill-color);\n",
              "    animation:\n",
              "      spin 1s steps(1) infinite;\n",
              "  }\n",
              "\n",
              "  @keyframes spin {\n",
              "    0% {\n",
              "      border-color: transparent;\n",
              "      border-bottom-color: var(--fill-color);\n",
              "      border-left-color: var(--fill-color);\n",
              "    }\n",
              "    20% {\n",
              "      border-color: transparent;\n",
              "      border-left-color: var(--fill-color);\n",
              "      border-top-color: var(--fill-color);\n",
              "    }\n",
              "    30% {\n",
              "      border-color: transparent;\n",
              "      border-left-color: var(--fill-color);\n",
              "      border-top-color: var(--fill-color);\n",
              "      border-right-color: var(--fill-color);\n",
              "    }\n",
              "    40% {\n",
              "      border-color: transparent;\n",
              "      border-right-color: var(--fill-color);\n",
              "      border-top-color: var(--fill-color);\n",
              "    }\n",
              "    60% {\n",
              "      border-color: transparent;\n",
              "      border-right-color: var(--fill-color);\n",
              "    }\n",
              "    80% {\n",
              "      border-color: transparent;\n",
              "      border-right-color: var(--fill-color);\n",
              "      border-bottom-color: var(--fill-color);\n",
              "    }\n",
              "    90% {\n",
              "      border-color: transparent;\n",
              "      border-bottom-color: var(--fill-color);\n",
              "    }\n",
              "  }\n",
              "</style>\n",
              "\n",
              "      <script>\n",
              "        async function quickchart(key) {\n",
              "          const quickchartButtonEl =\n",
              "            document.querySelector('#' + key + ' button');\n",
              "          quickchartButtonEl.disabled = true;  // To prevent multiple clicks.\n",
              "          quickchartButtonEl.classList.add('colab-df-spinner');\n",
              "          try {\n",
              "            const charts = await google.colab.kernel.invokeFunction(\n",
              "                'suggestCharts', [key], {});\n",
              "          } catch (error) {\n",
              "            console.error('Error during call to suggestCharts:', error);\n",
              "          }\n",
              "          quickchartButtonEl.classList.remove('colab-df-spinner');\n",
              "          quickchartButtonEl.classList.add('colab-df-quickchart-complete');\n",
              "        }\n",
              "        (() => {\n",
              "          let quickchartButtonEl =\n",
              "            document.querySelector('#df-61dd9dcc-b14b-4676-905f-5d0f20f4f267 button');\n",
              "          quickchartButtonEl.style.display =\n",
              "            google.colab.kernel.accessAllowed ? 'block' : 'none';\n",
              "        })();\n",
              "      </script>\n",
              "    </div>\n",
              "\n",
              "    </div>\n",
              "  </div>\n"
            ],
            "application/vnd.google.colaboratory.intrinsic+json": {
              "type": "dataframe",
              "variable_name": "df",
              "summary": "{\n  \"name\": \"df\",\n  \"rows\": 2401,\n  \"fields\": [\n    {\n      \"column\": \"seqn\",\n      \"properties\": {\n        \"dtype\": \"number\",\n        \"std\": 2823,\n        \"min\": 62161,\n        \"max\": 71915,\n        \"num_unique_values\": 2401,\n        \"samples\": [\n          64951,\n          62593,\n          68356\n        ],\n        \"semantic_type\": \"\",\n        \"description\": \"\"\n      }\n    },\n    {\n      \"column\": \"Age\",\n      \"properties\": {\n        \"dtype\": \"number\",\n        \"std\": 17,\n        \"min\": 20,\n        \"max\": 80,\n        \"num_unique_values\": 61,\n        \"samples\": [\n          22,\n          80,\n          37\n        ],\n        \"semantic_type\": \"\",\n        \"description\": \"\"\n      }\n    },\n    {\n      \"column\": \"Sex\",\n      \"properties\": {\n        \"dtype\": \"category\",\n        \"num_unique_values\": 2,\n        \"samples\": [\n          \"Female\",\n          \"Male\"\n        ],\n        \"semantic_type\": \"\",\n        \"description\": \"\"\n      }\n    },\n    {\n      \"column\": \"Marital\",\n      \"properties\": {\n        \"dtype\": \"category\",\n        \"num_unique_values\": 5,\n        \"samples\": [\n          \"Married\",\n          \"Separated\"\n        ],\n        \"semantic_type\": \"\",\n        \"description\": \"\"\n      }\n    },\n    {\n      \"column\": \"Income\",\n      \"properties\": {\n        \"dtype\": \"number\",\n        \"std\": 2954.032185906603,\n        \"min\": 300.0,\n        \"max\": 9000.0,\n        \"num_unique_values\": 14,\n        \"samples\": [\n          3500.0,\n          1600.0\n        ],\n        \"semantic_type\": \"\",\n        \"description\": \"\"\n      }\n    },\n    {\n      \"column\": \"Race\",\n      \"properties\": {\n        \"dtype\": \"category\",\n        \"num_unique_values\": 6,\n        \"samples\": [\n          \"White\",\n          \"Asian\"\n        ],\n        \"semantic_type\": \"\",\n        \"description\": \"\"\n      }\n    },\n    {\n      \"column\": \"WaistCirc\",\n      \"properties\": {\n        \"dtype\": \"number\",\n        \"std\": 16.25263425247074,\n        \"min\": 56.2,\n        \"max\": 176.0,\n        \"num_unique_values\": 635,\n        \"samples\": [\n          132.6,\n          107.2\n        ],\n        \"semantic_type\": \"\",\n        \"description\": \"\"\n      }\n    },\n    {\n      \"column\": \"BMI\",\n      \"properties\": {\n        \"dtype\": \"number\",\n        \"std\": 6.662242204699261,\n        \"min\": 13.4,\n        \"max\": 68.7,\n        \"num_unique_values\": 322,\n        \"samples\": [\n          24.3,\n          35.3\n        ],\n        \"semantic_type\": \"\",\n        \"description\": \"\"\n      }\n    },\n    {\n      \"column\": \"Albuminuria\",\n      \"properties\": {\n        \"dtype\": \"number\",\n        \"std\": 0,\n        \"min\": 0,\n        \"max\": 2,\n        \"num_unique_values\": 3,\n        \"samples\": [\n          0,\n          1\n        ],\n        \"semantic_type\": \"\",\n        \"description\": \"\"\n      }\n    },\n    {\n      \"column\": \"UrAlbCr\",\n      \"properties\": {\n        \"dtype\": \"number\",\n        \"std\": 258.27282888413674,\n        \"min\": 1.4,\n        \"max\": 5928.0,\n        \"num_unique_values\": 1383,\n        \"samples\": [\n          5.03,\n          169.26\n        ],\n        \"semantic_type\": \"\",\n        \"description\": \"\"\n      }\n    },\n    {\n      \"column\": \"UricAcid\",\n      \"properties\": {\n        \"dtype\": \"number\",\n        \"std\": 1.4393577728551328,\n        \"min\": 1.8,\n        \"max\": 11.3,\n        \"num_unique_values\": 88,\n        \"samples\": [\n          8.2,\n          4.9\n        ],\n        \"semantic_type\": \"\",\n        \"description\": \"\"\n      }\n    },\n    {\n      \"column\": \"BloodGlucose\",\n      \"properties\": {\n        \"dtype\": \"number\",\n        \"std\": 34,\n        \"min\": 39,\n        \"max\": 382,\n        \"num_unique_values\": 187,\n        \"samples\": [\n          292,\n          192\n        ],\n        \"semantic_type\": \"\",\n        \"description\": \"\"\n      }\n    },\n    {\n      \"column\": \"HDL\",\n      \"properties\": {\n        \"dtype\": \"number\",\n        \"std\": 15,\n        \"min\": 14,\n        \"max\": 156,\n        \"num_unique_values\": 93,\n        \"samples\": [\n          32,\n          50\n        ],\n        \"semantic_type\": \"\",\n        \"description\": \"\"\n      }\n    },\n    {\n      \"column\": \"Triglycerides\",\n      \"properties\": {\n        \"dtype\": \"number\",\n        \"std\": 95,\n        \"min\": 26,\n        \"max\": 1562,\n        \"num_unique_values\": 345,\n        \"samples\": [\n          233,\n          173\n        ],\n        \"semantic_type\": \"\",\n        \"description\": \"\"\n      }\n    },\n    {\n      \"column\": \"MetabolicSyndrome\",\n      \"properties\": {\n        \"dtype\": \"category\",\n        \"num_unique_values\": 2,\n        \"samples\": [\n          \"MetSyn\",\n          \"No MetSyn\"\n        ],\n        \"semantic_type\": \"\",\n        \"description\": \"\"\n      }\n    }\n  ]\n}"
            }
          },
          "metadata": {},
          "execution_count": 4
        }
      ]
    },
    {
      "cell_type": "code",
      "source": [
        "df.info()"
      ],
      "metadata": {
        "colab": {
          "base_uri": "https://localhost:8080/"
        },
        "id": "hWRg-Fofhwq1",
        "outputId": "981875e4-e61c-4fa9-92f7-81493d8fcabf"
      },
      "execution_count": null,
      "outputs": [
        {
          "output_type": "stream",
          "name": "stdout",
          "text": [
            "<class 'pandas.core.frame.DataFrame'>\n",
            "RangeIndex: 2401 entries, 0 to 2400\n",
            "Data columns (total 15 columns):\n",
            " #   Column             Non-Null Count  Dtype  \n",
            "---  ------             --------------  -----  \n",
            " 0   seqn               2401 non-null   int64  \n",
            " 1   Age                2401 non-null   int64  \n",
            " 2   Sex                2401 non-null   object \n",
            " 3   Marital            2193 non-null   object \n",
            " 4   Income             2284 non-null   float64\n",
            " 5   Race               2401 non-null   object \n",
            " 6   WaistCirc          2316 non-null   float64\n",
            " 7   BMI                2375 non-null   float64\n",
            " 8   Albuminuria        2401 non-null   int64  \n",
            " 9   UrAlbCr            2401 non-null   float64\n",
            " 10  UricAcid           2401 non-null   float64\n",
            " 11  BloodGlucose       2401 non-null   int64  \n",
            " 12  HDL                2401 non-null   int64  \n",
            " 13  Triglycerides      2401 non-null   int64  \n",
            " 14  MetabolicSyndrome  2401 non-null   object \n",
            "dtypes: float64(5), int64(6), object(4)\n",
            "memory usage: 281.5+ KB\n"
          ]
        }
      ]
    },
    {
      "cell_type": "code",
      "source": [
        "# Mengecek julah baris dan kolom dataset\n",
        "df.shape"
      ],
      "metadata": {
        "colab": {
          "base_uri": "https://localhost:8080/"
        },
        "id": "gvsmbzP2hzGF",
        "outputId": "38812246-72ad-434c-ccd6-8bbe7555f594"
      },
      "execution_count": null,
      "outputs": [
        {
          "output_type": "execute_result",
          "data": {
            "text/plain": [
              "(2401, 15)"
            ]
          },
          "metadata": {},
          "execution_count": 6
        }
      ]
    },
    {
      "cell_type": "code",
      "source": [
        "# MElihat dekripsi dataset\n",
        "df.describe()"
      ],
      "metadata": {
        "colab": {
          "base_uri": "https://localhost:8080/",
          "height": 320
        },
        "id": "a2jFRtkd2HpC",
        "outputId": "6ba9cd83-deb5-4cb8-a6c1-3f501fc0bb86"
      },
      "execution_count": null,
      "outputs": [
        {
          "output_type": "execute_result",
          "data": {
            "text/plain": [
              "               seqn          Age       Income    WaistCirc          BMI  \\\n",
              "count   2401.000000  2401.000000  2284.000000  2316.000000  2375.000000   \n",
              "mean   67030.674302    48.691795  4005.253940    98.307254    28.702189   \n",
              "std     2823.565114    17.632852  2954.032186    16.252634     6.662242   \n",
              "min    62161.000000    20.000000   300.000000    56.200000    13.400000   \n",
              "25%    64591.000000    34.000000  1600.000000    86.675000    24.000000   \n",
              "50%    67059.000000    48.000000  2500.000000    97.000000    27.700000   \n",
              "75%    69495.000000    63.000000  6200.000000   107.625000    32.100000   \n",
              "max    71915.000000    80.000000  9000.000000   176.000000    68.700000   \n",
              "\n",
              "       Albuminuria      UrAlbCr     UricAcid  BloodGlucose          HDL  \\\n",
              "count  2401.000000  2401.000000  2401.000000   2401.000000  2401.000000   \n",
              "mean      0.154102    43.626131     5.489046    108.247813    53.369429   \n",
              "std       0.422780   258.272829     1.439358     34.820657    15.185537   \n",
              "min       0.000000     1.400000     1.800000     39.000000    14.000000   \n",
              "25%       0.000000     4.450000     4.500000     92.000000    43.000000   \n",
              "50%       0.000000     7.070000     5.400000     99.000000    51.000000   \n",
              "75%       0.000000    13.690000     6.400000    110.000000    62.000000   \n",
              "max       2.000000  5928.000000    11.300000    382.000000   156.000000   \n",
              "\n",
              "       Triglycerides  \n",
              "count    2401.000000  \n",
              "mean      128.125364  \n",
              "std        95.322477  \n",
              "min        26.000000  \n",
              "25%        75.000000  \n",
              "50%       103.000000  \n",
              "75%       150.000000  \n",
              "max      1562.000000  "
            ],
            "text/html": [
              "\n",
              "  <div id=\"df-e7574663-a135-436e-a9d9-d839eef5239c\" class=\"colab-df-container\">\n",
              "    <div>\n",
              "<style scoped>\n",
              "    .dataframe tbody tr th:only-of-type {\n",
              "        vertical-align: middle;\n",
              "    }\n",
              "\n",
              "    .dataframe tbody tr th {\n",
              "        vertical-align: top;\n",
              "    }\n",
              "\n",
              "    .dataframe thead th {\n",
              "        text-align: right;\n",
              "    }\n",
              "</style>\n",
              "<table border=\"1\" class=\"dataframe\">\n",
              "  <thead>\n",
              "    <tr style=\"text-align: right;\">\n",
              "      <th></th>\n",
              "      <th>seqn</th>\n",
              "      <th>Age</th>\n",
              "      <th>Income</th>\n",
              "      <th>WaistCirc</th>\n",
              "      <th>BMI</th>\n",
              "      <th>Albuminuria</th>\n",
              "      <th>UrAlbCr</th>\n",
              "      <th>UricAcid</th>\n",
              "      <th>BloodGlucose</th>\n",
              "      <th>HDL</th>\n",
              "      <th>Triglycerides</th>\n",
              "    </tr>\n",
              "  </thead>\n",
              "  <tbody>\n",
              "    <tr>\n",
              "      <th>count</th>\n",
              "      <td>2401.000000</td>\n",
              "      <td>2401.000000</td>\n",
              "      <td>2284.000000</td>\n",
              "      <td>2316.000000</td>\n",
              "      <td>2375.000000</td>\n",
              "      <td>2401.000000</td>\n",
              "      <td>2401.000000</td>\n",
              "      <td>2401.000000</td>\n",
              "      <td>2401.000000</td>\n",
              "      <td>2401.000000</td>\n",
              "      <td>2401.000000</td>\n",
              "    </tr>\n",
              "    <tr>\n",
              "      <th>mean</th>\n",
              "      <td>67030.674302</td>\n",
              "      <td>48.691795</td>\n",
              "      <td>4005.253940</td>\n",
              "      <td>98.307254</td>\n",
              "      <td>28.702189</td>\n",
              "      <td>0.154102</td>\n",
              "      <td>43.626131</td>\n",
              "      <td>5.489046</td>\n",
              "      <td>108.247813</td>\n",
              "      <td>53.369429</td>\n",
              "      <td>128.125364</td>\n",
              "    </tr>\n",
              "    <tr>\n",
              "      <th>std</th>\n",
              "      <td>2823.565114</td>\n",
              "      <td>17.632852</td>\n",
              "      <td>2954.032186</td>\n",
              "      <td>16.252634</td>\n",
              "      <td>6.662242</td>\n",
              "      <td>0.422780</td>\n",
              "      <td>258.272829</td>\n",
              "      <td>1.439358</td>\n",
              "      <td>34.820657</td>\n",
              "      <td>15.185537</td>\n",
              "      <td>95.322477</td>\n",
              "    </tr>\n",
              "    <tr>\n",
              "      <th>min</th>\n",
              "      <td>62161.000000</td>\n",
              "      <td>20.000000</td>\n",
              "      <td>300.000000</td>\n",
              "      <td>56.200000</td>\n",
              "      <td>13.400000</td>\n",
              "      <td>0.000000</td>\n",
              "      <td>1.400000</td>\n",
              "      <td>1.800000</td>\n",
              "      <td>39.000000</td>\n",
              "      <td>14.000000</td>\n",
              "      <td>26.000000</td>\n",
              "    </tr>\n",
              "    <tr>\n",
              "      <th>25%</th>\n",
              "      <td>64591.000000</td>\n",
              "      <td>34.000000</td>\n",
              "      <td>1600.000000</td>\n",
              "      <td>86.675000</td>\n",
              "      <td>24.000000</td>\n",
              "      <td>0.000000</td>\n",
              "      <td>4.450000</td>\n",
              "      <td>4.500000</td>\n",
              "      <td>92.000000</td>\n",
              "      <td>43.000000</td>\n",
              "      <td>75.000000</td>\n",
              "    </tr>\n",
              "    <tr>\n",
              "      <th>50%</th>\n",
              "      <td>67059.000000</td>\n",
              "      <td>48.000000</td>\n",
              "      <td>2500.000000</td>\n",
              "      <td>97.000000</td>\n",
              "      <td>27.700000</td>\n",
              "      <td>0.000000</td>\n",
              "      <td>7.070000</td>\n",
              "      <td>5.400000</td>\n",
              "      <td>99.000000</td>\n",
              "      <td>51.000000</td>\n",
              "      <td>103.000000</td>\n",
              "    </tr>\n",
              "    <tr>\n",
              "      <th>75%</th>\n",
              "      <td>69495.000000</td>\n",
              "      <td>63.000000</td>\n",
              "      <td>6200.000000</td>\n",
              "      <td>107.625000</td>\n",
              "      <td>32.100000</td>\n",
              "      <td>0.000000</td>\n",
              "      <td>13.690000</td>\n",
              "      <td>6.400000</td>\n",
              "      <td>110.000000</td>\n",
              "      <td>62.000000</td>\n",
              "      <td>150.000000</td>\n",
              "    </tr>\n",
              "    <tr>\n",
              "      <th>max</th>\n",
              "      <td>71915.000000</td>\n",
              "      <td>80.000000</td>\n",
              "      <td>9000.000000</td>\n",
              "      <td>176.000000</td>\n",
              "      <td>68.700000</td>\n",
              "      <td>2.000000</td>\n",
              "      <td>5928.000000</td>\n",
              "      <td>11.300000</td>\n",
              "      <td>382.000000</td>\n",
              "      <td>156.000000</td>\n",
              "      <td>1562.000000</td>\n",
              "    </tr>\n",
              "  </tbody>\n",
              "</table>\n",
              "</div>\n",
              "    <div class=\"colab-df-buttons\">\n",
              "\n",
              "  <div class=\"colab-df-container\">\n",
              "    <button class=\"colab-df-convert\" onclick=\"convertToInteractive('df-e7574663-a135-436e-a9d9-d839eef5239c')\"\n",
              "            title=\"Convert this dataframe to an interactive table.\"\n",
              "            style=\"display:none;\">\n",
              "\n",
              "  <svg xmlns=\"http://www.w3.org/2000/svg\" height=\"24px\" viewBox=\"0 -960 960 960\">\n",
              "    <path d=\"M120-120v-720h720v720H120Zm60-500h600v-160H180v160Zm220 220h160v-160H400v160Zm0 220h160v-160H400v160ZM180-400h160v-160H180v160Zm440 0h160v-160H620v160ZM180-180h160v-160H180v160Zm440 0h160v-160H620v160Z\"/>\n",
              "  </svg>\n",
              "    </button>\n",
              "\n",
              "  <style>\n",
              "    .colab-df-container {\n",
              "      display:flex;\n",
              "      gap: 12px;\n",
              "    }\n",
              "\n",
              "    .colab-df-convert {\n",
              "      background-color: #E8F0FE;\n",
              "      border: none;\n",
              "      border-radius: 50%;\n",
              "      cursor: pointer;\n",
              "      display: none;\n",
              "      fill: #1967D2;\n",
              "      height: 32px;\n",
              "      padding: 0 0 0 0;\n",
              "      width: 32px;\n",
              "    }\n",
              "\n",
              "    .colab-df-convert:hover {\n",
              "      background-color: #E2EBFA;\n",
              "      box-shadow: 0px 1px 2px rgba(60, 64, 67, 0.3), 0px 1px 3px 1px rgba(60, 64, 67, 0.15);\n",
              "      fill: #174EA6;\n",
              "    }\n",
              "\n",
              "    .colab-df-buttons div {\n",
              "      margin-bottom: 4px;\n",
              "    }\n",
              "\n",
              "    [theme=dark] .colab-df-convert {\n",
              "      background-color: #3B4455;\n",
              "      fill: #D2E3FC;\n",
              "    }\n",
              "\n",
              "    [theme=dark] .colab-df-convert:hover {\n",
              "      background-color: #434B5C;\n",
              "      box-shadow: 0px 1px 3px 1px rgba(0, 0, 0, 0.15);\n",
              "      filter: drop-shadow(0px 1px 2px rgba(0, 0, 0, 0.3));\n",
              "      fill: #FFFFFF;\n",
              "    }\n",
              "  </style>\n",
              "\n",
              "    <script>\n",
              "      const buttonEl =\n",
              "        document.querySelector('#df-e7574663-a135-436e-a9d9-d839eef5239c button.colab-df-convert');\n",
              "      buttonEl.style.display =\n",
              "        google.colab.kernel.accessAllowed ? 'block' : 'none';\n",
              "\n",
              "      async function convertToInteractive(key) {\n",
              "        const element = document.querySelector('#df-e7574663-a135-436e-a9d9-d839eef5239c');\n",
              "        const dataTable =\n",
              "          await google.colab.kernel.invokeFunction('convertToInteractive',\n",
              "                                                    [key], {});\n",
              "        if (!dataTable) return;\n",
              "\n",
              "        const docLinkHtml = 'Like what you see? Visit the ' +\n",
              "          '<a target=\"_blank\" href=https://colab.research.google.com/notebooks/data_table.ipynb>data table notebook</a>'\n",
              "          + ' to learn more about interactive tables.';\n",
              "        element.innerHTML = '';\n",
              "        dataTable['output_type'] = 'display_data';\n",
              "        await google.colab.output.renderOutput(dataTable, element);\n",
              "        const docLink = document.createElement('div');\n",
              "        docLink.innerHTML = docLinkHtml;\n",
              "        element.appendChild(docLink);\n",
              "      }\n",
              "    </script>\n",
              "  </div>\n",
              "\n",
              "\n",
              "    <div id=\"df-f2996b44-8db7-445e-8903-a064b7033746\">\n",
              "      <button class=\"colab-df-quickchart\" onclick=\"quickchart('df-f2996b44-8db7-445e-8903-a064b7033746')\"\n",
              "                title=\"Suggest charts\"\n",
              "                style=\"display:none;\">\n",
              "\n",
              "<svg xmlns=\"http://www.w3.org/2000/svg\" height=\"24px\"viewBox=\"0 0 24 24\"\n",
              "     width=\"24px\">\n",
              "    <g>\n",
              "        <path d=\"M19 3H5c-1.1 0-2 .9-2 2v14c0 1.1.9 2 2 2h14c1.1 0 2-.9 2-2V5c0-1.1-.9-2-2-2zM9 17H7v-7h2v7zm4 0h-2V7h2v10zm4 0h-2v-4h2v4z\"/>\n",
              "    </g>\n",
              "</svg>\n",
              "      </button>\n",
              "\n",
              "<style>\n",
              "  .colab-df-quickchart {\n",
              "      --bg-color: #E8F0FE;\n",
              "      --fill-color: #1967D2;\n",
              "      --hover-bg-color: #E2EBFA;\n",
              "      --hover-fill-color: #174EA6;\n",
              "      --disabled-fill-color: #AAA;\n",
              "      --disabled-bg-color: #DDD;\n",
              "  }\n",
              "\n",
              "  [theme=dark] .colab-df-quickchart {\n",
              "      --bg-color: #3B4455;\n",
              "      --fill-color: #D2E3FC;\n",
              "      --hover-bg-color: #434B5C;\n",
              "      --hover-fill-color: #FFFFFF;\n",
              "      --disabled-bg-color: #3B4455;\n",
              "      --disabled-fill-color: #666;\n",
              "  }\n",
              "\n",
              "  .colab-df-quickchart {\n",
              "    background-color: var(--bg-color);\n",
              "    border: none;\n",
              "    border-radius: 50%;\n",
              "    cursor: pointer;\n",
              "    display: none;\n",
              "    fill: var(--fill-color);\n",
              "    height: 32px;\n",
              "    padding: 0;\n",
              "    width: 32px;\n",
              "  }\n",
              "\n",
              "  .colab-df-quickchart:hover {\n",
              "    background-color: var(--hover-bg-color);\n",
              "    box-shadow: 0 1px 2px rgba(60, 64, 67, 0.3), 0 1px 3px 1px rgba(60, 64, 67, 0.15);\n",
              "    fill: var(--button-hover-fill-color);\n",
              "  }\n",
              "\n",
              "  .colab-df-quickchart-complete:disabled,\n",
              "  .colab-df-quickchart-complete:disabled:hover {\n",
              "    background-color: var(--disabled-bg-color);\n",
              "    fill: var(--disabled-fill-color);\n",
              "    box-shadow: none;\n",
              "  }\n",
              "\n",
              "  .colab-df-spinner {\n",
              "    border: 2px solid var(--fill-color);\n",
              "    border-color: transparent;\n",
              "    border-bottom-color: var(--fill-color);\n",
              "    animation:\n",
              "      spin 1s steps(1) infinite;\n",
              "  }\n",
              "\n",
              "  @keyframes spin {\n",
              "    0% {\n",
              "      border-color: transparent;\n",
              "      border-bottom-color: var(--fill-color);\n",
              "      border-left-color: var(--fill-color);\n",
              "    }\n",
              "    20% {\n",
              "      border-color: transparent;\n",
              "      border-left-color: var(--fill-color);\n",
              "      border-top-color: var(--fill-color);\n",
              "    }\n",
              "    30% {\n",
              "      border-color: transparent;\n",
              "      border-left-color: var(--fill-color);\n",
              "      border-top-color: var(--fill-color);\n",
              "      border-right-color: var(--fill-color);\n",
              "    }\n",
              "    40% {\n",
              "      border-color: transparent;\n",
              "      border-right-color: var(--fill-color);\n",
              "      border-top-color: var(--fill-color);\n",
              "    }\n",
              "    60% {\n",
              "      border-color: transparent;\n",
              "      border-right-color: var(--fill-color);\n",
              "    }\n",
              "    80% {\n",
              "      border-color: transparent;\n",
              "      border-right-color: var(--fill-color);\n",
              "      border-bottom-color: var(--fill-color);\n",
              "    }\n",
              "    90% {\n",
              "      border-color: transparent;\n",
              "      border-bottom-color: var(--fill-color);\n",
              "    }\n",
              "  }\n",
              "</style>\n",
              "\n",
              "      <script>\n",
              "        async function quickchart(key) {\n",
              "          const quickchartButtonEl =\n",
              "            document.querySelector('#' + key + ' button');\n",
              "          quickchartButtonEl.disabled = true;  // To prevent multiple clicks.\n",
              "          quickchartButtonEl.classList.add('colab-df-spinner');\n",
              "          try {\n",
              "            const charts = await google.colab.kernel.invokeFunction(\n",
              "                'suggestCharts', [key], {});\n",
              "          } catch (error) {\n",
              "            console.error('Error during call to suggestCharts:', error);\n",
              "          }\n",
              "          quickchartButtonEl.classList.remove('colab-df-spinner');\n",
              "          quickchartButtonEl.classList.add('colab-df-quickchart-complete');\n",
              "        }\n",
              "        (() => {\n",
              "          let quickchartButtonEl =\n",
              "            document.querySelector('#df-f2996b44-8db7-445e-8903-a064b7033746 button');\n",
              "          quickchartButtonEl.style.display =\n",
              "            google.colab.kernel.accessAllowed ? 'block' : 'none';\n",
              "        })();\n",
              "      </script>\n",
              "    </div>\n",
              "\n",
              "    </div>\n",
              "  </div>\n"
            ],
            "application/vnd.google.colaboratory.intrinsic+json": {
              "type": "dataframe",
              "summary": "{\n  \"name\": \"df\",\n  \"rows\": 8,\n  \"fields\": [\n    {\n      \"column\": \"seqn\",\n      \"properties\": {\n        \"dtype\": \"number\",\n        \"std\": 29967.7370333783,\n        \"min\": 2401.0,\n        \"max\": 71915.0,\n        \"num_unique_values\": 8,\n        \"samples\": [\n          67030.67430237401,\n          67059.0,\n          2401.0\n        ],\n        \"semantic_type\": \"\",\n        \"description\": \"\"\n      }\n    },\n    {\n      \"column\": \"Age\",\n      \"properties\": {\n        \"dtype\": \"number\",\n        \"std\": 833.420120816358,\n        \"min\": 17.632852014104994,\n        \"max\": 2401.0,\n        \"num_unique_values\": 8,\n        \"samples\": [\n          48.69179508538109,\n          48.0,\n          2401.0\n        ],\n        \"semantic_type\": \"\",\n        \"description\": \"\"\n      }\n    },\n    {\n      \"column\": \"Income\",\n      \"properties\": {\n        \"dtype\": \"number\",\n        \"std\": 2786.014228299409,\n        \"min\": 300.0,\n        \"max\": 9000.0,\n        \"num_unique_values\": 8,\n        \"samples\": [\n          4005.2539404553413,\n          2500.0,\n          2284.0\n        ],\n        \"semantic_type\": \"\",\n        \"description\": \"\"\n      }\n    },\n    {\n      \"column\": \"WaistCirc\",\n      \"properties\": {\n        \"dtype\": \"number\",\n        \"std\": 787.909972440485,\n        \"min\": 16.25263425247074,\n        \"max\": 2316.0,\n        \"num_unique_values\": 8,\n        \"samples\": [\n          98.30725388601036,\n          97.0,\n          2316.0\n        ],\n        \"semantic_type\": \"\",\n        \"description\": \"\"\n      }\n    },\n    {\n      \"column\": \"BMI\",\n      \"properties\": {\n        \"dtype\": \"number\",\n        \"std\": 829.7266200735193,\n        \"min\": 6.662242204699261,\n        \"max\": 2375.0,\n        \"num_unique_values\": 8,\n        \"samples\": [\n          28.702189473684214,\n          27.7,\n          2375.0\n        ],\n        \"semantic_type\": \"\",\n        \"description\": \"\"\n      }\n    },\n    {\n      \"column\": \"Albuminuria\",\n      \"properties\": {\n        \"dtype\": \"number\",\n        \"std\": 848.7518124560714,\n        \"min\": 0.0,\n        \"max\": 2401.0,\n        \"num_unique_values\": 5,\n        \"samples\": [\n          0.1541024573094544,\n          2.0,\n          0.4227795380945775\n        ],\n        \"semantic_type\": \"\",\n        \"description\": \"\"\n      }\n    },\n    {\n      \"column\": \"UrAlbCr\",\n      \"properties\": {\n        \"dtype\": \"number\",\n        \"std\": 2124.8796464605425,\n        \"min\": 1.4,\n        \"max\": 5928.0,\n        \"num_unique_values\": 8,\n        \"samples\": [\n          43.626130778842146,\n          7.07,\n          2401.0\n        ],\n        \"semantic_type\": \"\",\n        \"description\": \"\"\n      }\n    },\n    {\n      \"column\": \"UricAcid\",\n      \"properties\": {\n        \"dtype\": \"number\",\n        \"std\": 847.0523076072174,\n        \"min\": 1.4393577728551328,\n        \"max\": 2401.0,\n        \"num_unique_values\": 8,\n        \"samples\": [\n          5.489046230737193,\n          5.4,\n          2401.0\n        ],\n        \"semantic_type\": \"\",\n        \"description\": \"\"\n      }\n    },\n    {\n      \"column\": \"BloodGlucose\",\n      \"properties\": {\n        \"dtype\": \"number\",\n        \"std\": 812.5920308905321,\n        \"min\": 34.82065689010627,\n        \"max\": 2401.0,\n        \"num_unique_values\": 8,\n        \"samples\": [\n          108.24781341107872,\n          99.0,\n          2401.0\n        ],\n        \"semantic_type\": \"\",\n        \"description\": \"\"\n      }\n    },\n    {\n      \"column\": \"HDL\",\n      \"properties\": {\n        \"dtype\": \"number\",\n        \"std\": 830.1303641114208,\n        \"min\": 14.0,\n        \"max\": 2401.0,\n        \"num_unique_values\": 8,\n        \"samples\": [\n          53.369429404414824,\n          51.0,\n          2401.0\n        ],\n        \"semantic_type\": \"\",\n        \"description\": \"\"\n      }\n    },\n    {\n      \"column\": \"Triglycerides\",\n      \"properties\": {\n        \"dtype\": \"number\",\n        \"std\": 901.791800344352,\n        \"min\": 26.0,\n        \"max\": 2401.0,\n        \"num_unique_values\": 8,\n        \"samples\": [\n          128.12536443148687,\n          103.0,\n          2401.0\n        ],\n        \"semantic_type\": \"\",\n        \"description\": \"\"\n      }\n    }\n  ]\n}"
            }
          },
          "metadata": {},
          "execution_count": 7
        }
      ]
    },
    {
      "cell_type": "code",
      "source": [
        "# Mengecek nilai null\n",
        "df.isnull().sum()"
      ],
      "metadata": {
        "colab": {
          "base_uri": "https://localhost:8080/",
          "height": 554
        },
        "id": "N3xgfrIPh0R8",
        "outputId": "7bfc0ead-09d8-4ece-c763-521939a0b49f"
      },
      "execution_count": null,
      "outputs": [
        {
          "output_type": "execute_result",
          "data": {
            "text/plain": [
              "seqn                   0\n",
              "Age                    0\n",
              "Sex                    0\n",
              "Marital              208\n",
              "Income               117\n",
              "Race                   0\n",
              "WaistCirc             85\n",
              "BMI                   26\n",
              "Albuminuria            0\n",
              "UrAlbCr                0\n",
              "UricAcid               0\n",
              "BloodGlucose           0\n",
              "HDL                    0\n",
              "Triglycerides          0\n",
              "MetabolicSyndrome      0\n",
              "dtype: int64"
            ],
            "text/html": [
              "<div>\n",
              "<style scoped>\n",
              "    .dataframe tbody tr th:only-of-type {\n",
              "        vertical-align: middle;\n",
              "    }\n",
              "\n",
              "    .dataframe tbody tr th {\n",
              "        vertical-align: top;\n",
              "    }\n",
              "\n",
              "    .dataframe thead th {\n",
              "        text-align: right;\n",
              "    }\n",
              "</style>\n",
              "<table border=\"1\" class=\"dataframe\">\n",
              "  <thead>\n",
              "    <tr style=\"text-align: right;\">\n",
              "      <th></th>\n",
              "      <th>0</th>\n",
              "    </tr>\n",
              "  </thead>\n",
              "  <tbody>\n",
              "    <tr>\n",
              "      <th>seqn</th>\n",
              "      <td>0</td>\n",
              "    </tr>\n",
              "    <tr>\n",
              "      <th>Age</th>\n",
              "      <td>0</td>\n",
              "    </tr>\n",
              "    <tr>\n",
              "      <th>Sex</th>\n",
              "      <td>0</td>\n",
              "    </tr>\n",
              "    <tr>\n",
              "      <th>Marital</th>\n",
              "      <td>208</td>\n",
              "    </tr>\n",
              "    <tr>\n",
              "      <th>Income</th>\n",
              "      <td>117</td>\n",
              "    </tr>\n",
              "    <tr>\n",
              "      <th>Race</th>\n",
              "      <td>0</td>\n",
              "    </tr>\n",
              "    <tr>\n",
              "      <th>WaistCirc</th>\n",
              "      <td>85</td>\n",
              "    </tr>\n",
              "    <tr>\n",
              "      <th>BMI</th>\n",
              "      <td>26</td>\n",
              "    </tr>\n",
              "    <tr>\n",
              "      <th>Albuminuria</th>\n",
              "      <td>0</td>\n",
              "    </tr>\n",
              "    <tr>\n",
              "      <th>UrAlbCr</th>\n",
              "      <td>0</td>\n",
              "    </tr>\n",
              "    <tr>\n",
              "      <th>UricAcid</th>\n",
              "      <td>0</td>\n",
              "    </tr>\n",
              "    <tr>\n",
              "      <th>BloodGlucose</th>\n",
              "      <td>0</td>\n",
              "    </tr>\n",
              "    <tr>\n",
              "      <th>HDL</th>\n",
              "      <td>0</td>\n",
              "    </tr>\n",
              "    <tr>\n",
              "      <th>Triglycerides</th>\n",
              "      <td>0</td>\n",
              "    </tr>\n",
              "    <tr>\n",
              "      <th>MetabolicSyndrome</th>\n",
              "      <td>0</td>\n",
              "    </tr>\n",
              "  </tbody>\n",
              "</table>\n",
              "</div><br><label><b>dtype:</b> int64</label>"
            ]
          },
          "metadata": {},
          "execution_count": 8
        }
      ]
    },
    {
      "cell_type": "code",
      "source": [
        "# Mengecek duplikasi data\n",
        "df.duplicated().sum()"
      ],
      "metadata": {
        "colab": {
          "base_uri": "https://localhost:8080/"
        },
        "id": "_OegaK9rYTKo",
        "outputId": "acd1fd99-faad-4d99-8d5d-ed152de4f383"
      },
      "execution_count": null,
      "outputs": [
        {
          "output_type": "execute_result",
          "data": {
            "text/plain": [
              "np.int64(0)"
            ]
          },
          "metadata": {},
          "execution_count": 9
        }
      ]
    },
    {
      "cell_type": "code",
      "source": [
        "# Mengecek jumlah baris tiap kelas pada Metabolicsyndrome\n",
        "df['MetabolicSyndrome'].value_counts()"
      ],
      "metadata": {
        "colab": {
          "base_uri": "https://localhost:8080/",
          "height": 178
        },
        "id": "ypcZnuCKTeC8",
        "outputId": "ce8ba8f7-9147-4e1d-86cd-ba261c7f0e47"
      },
      "execution_count": null,
      "outputs": [
        {
          "output_type": "execute_result",
          "data": {
            "text/plain": [
              "MetabolicSyndrome\n",
              "No MetSyn    1579\n",
              "MetSyn        822\n",
              "Name: count, dtype: int64"
            ],
            "text/html": [
              "<div>\n",
              "<style scoped>\n",
              "    .dataframe tbody tr th:only-of-type {\n",
              "        vertical-align: middle;\n",
              "    }\n",
              "\n",
              "    .dataframe tbody tr th {\n",
              "        vertical-align: top;\n",
              "    }\n",
              "\n",
              "    .dataframe thead th {\n",
              "        text-align: right;\n",
              "    }\n",
              "</style>\n",
              "<table border=\"1\" class=\"dataframe\">\n",
              "  <thead>\n",
              "    <tr style=\"text-align: right;\">\n",
              "      <th></th>\n",
              "      <th>count</th>\n",
              "    </tr>\n",
              "    <tr>\n",
              "      <th>MetabolicSyndrome</th>\n",
              "      <th></th>\n",
              "    </tr>\n",
              "  </thead>\n",
              "  <tbody>\n",
              "    <tr>\n",
              "      <th>No MetSyn</th>\n",
              "      <td>1579</td>\n",
              "    </tr>\n",
              "    <tr>\n",
              "      <th>MetSyn</th>\n",
              "      <td>822</td>\n",
              "    </tr>\n",
              "  </tbody>\n",
              "</table>\n",
              "</div><br><label><b>dtype:</b> int64</label>"
            ]
          },
          "metadata": {},
          "execution_count": 10
        }
      ]
    },
    {
      "cell_type": "markdown",
      "source": [
        "Mengecek distribusi dari kelas MetabolicSyndrome"
      ],
      "metadata": {
        "id": "GIgLc29zrDdE"
      }
    },
    {
      "cell_type": "code",
      "source": [
        "plt.figure(figsize=(8,5))\n",
        "kategori = df['MetabolicSyndrome'].value_counts()\n",
        "sns.barplot(x=kategori.index, y=kategori.values, hue=kategori.index, palette='viridis', legend=False)\n",
        "\n",
        "print(kategori)\n",
        "\n",
        "plt.title('Distribusi Kategori')\n",
        "plt.xlabel('Kategori')\n",
        "plt.ylabel('Jumlah')\n",
        "plt.tight_layout()\n",
        "plt.show()"
      ],
      "metadata": {
        "id": "7QhKqWTMiRcW",
        "colab": {
          "base_uri": "https://localhost:8080/",
          "height": 576
        },
        "outputId": "dcbf940d-392b-4934-8be9-51f668071128"
      },
      "execution_count": null,
      "outputs": [
        {
          "output_type": "stream",
          "name": "stdout",
          "text": [
            "MetabolicSyndrome\n",
            "No MetSyn    1579\n",
            "MetSyn        822\n",
            "Name: count, dtype: int64\n"
          ]
        },
        {
          "output_type": "display_data",
          "data": {
            "text/plain": [
              "<Figure size 800x500 with 1 Axes>"
            ],
            "image/png": "[encoded data removed]"
          },
          "metadata": {}
        }
      ]
    },
    {
      "cell_type": "markdown",
      "source": [
        "\n",
        "\n",
        "> Berdasarkan visualisasi tersebut, terdapat imbalance class pada fitur MetabolicSyndrome(fitur target), dimana kasus terdeteksi  Sindrom Metabolik lebih sedikit dibandingkan kasus tidak terdeteksi Sindrom Metabolik, sehingga di perlukan metode balancing data\n",
        "\n"
      ],
      "metadata": {
        "id": "4dk-ca0BrR2I"
      }
    },
    {
      "cell_type": "markdown",
      "source": [
        "# PREPROCESSING"
      ],
      "metadata": {
        "id": "__BzHEnzGEsJ"
      }
    },
    {
      "cell_type": "markdown",
      "source": [
        "Menurut National Heart, Lung, and Blood Institue seseorang di diagnosa Sindrom metabolik ketika memiliki 3 atau lebih dari kriteria berikut:\n",
        "\n",
        "| Komponen                  | Kriteria Diagnosis                     |\n",
        "| ------------------------- | -------------------------------------- |\n",
        "| **Tekanan darah**         | ≥130/85 mmHg                           |\n",
        "| **Gula darah puasa (Fasting Glucose)**      | ≥100 mg/dL                             |\n",
        "| **Kolesterol HDL (baik)** | <40 mg/dL (pria)<br><50 mg/dL (wanita) |\n",
        "| **Trigliserida**          | >150 mg/dL                             |\n",
        "| **Lingkar pinggang**      | >102 cm (pria)<br>>89 cm (wanita)      |"
      ],
      "metadata": {
        "id": "oJ0yuX4Upmjs"
      }
    },
    {
      "cell_type": "code",
      "source": [
        "# drop kolom\n",
        "df = df.drop(['seqn', 'Income', 'Marital', 'Race', 'Albuminuria', 'UrAlbCr', 'UricAcid'], axis=1)"
      ],
      "metadata": {
        "id": "QZkQg8eMvrwG"
      },
      "execution_count": null,
      "outputs": []
    },
    {
      "cell_type": "code",
      "source": [
        "# mengecek kolom setelah di drop\n",
        "df.columns"
      ],
      "metadata": {
        "colab": {
          "base_uri": "https://localhost:8080/"
        },
        "id": "GcEZnY0TwPJ6",
        "outputId": "6b316bb3-ca75-4533-d174-80ef51442c32"
      },
      "execution_count": null,
      "outputs": [
        {
          "output_type": "execute_result",
          "data": {
            "text/plain": [
              "Index(['Age', 'Sex', 'WaistCirc', 'BMI', 'BloodGlucose', 'HDL',\n",
              "       'Triglycerides', 'MetabolicSyndrome'],\n",
              "      dtype='object')"
            ]
          },
          "metadata": {},
          "execution_count": 13
        }
      ]
    },
    {
      "cell_type": "markdown",
      "source": [
        "**Missing value handling**"
      ],
      "metadata": {
        "id": "Z2POP5j8kLK5"
      }
    },
    {
      "cell_type": "code",
      "source": [
        "# Penngananan missing value menggunakan mean imputaion, sehingga kolom null akan di isi oleh rata rata dari setiap kolom\n",
        "df['WaistCirc'] = df['WaistCirc'].fillna(df['WaistCirc'].mean())\n",
        "df['BMI'] = df['BMI'].fillna(df['BMI'].mean())"
      ],
      "metadata": {
        "id": "tLPuBzAFvqVp"
      },
      "execution_count": null,
      "outputs": []
    },
    {
      "cell_type": "code",
      "source": [
        "df.isnull().sum()"
      ],
      "metadata": {
        "colab": {
          "base_uri": "https://localhost:8080/",
          "height": 335
        },
        "id": "eJeWA6Iekmec",
        "outputId": "2d78cbcb-90c3-48b9-dbe7-24f37aaa5a0d"
      },
      "execution_count": null,
      "outputs": [
        {
          "output_type": "execute_result",
          "data": {
            "text/plain": [
              "Age                  0\n",
              "Sex                  0\n",
              "WaistCirc            0\n",
              "BMI                  0\n",
              "BloodGlucose         0\n",
              "HDL                  0\n",
              "Triglycerides        0\n",
              "MetabolicSyndrome    0\n",
              "dtype: int64"
            ],
            "text/html": [
              "<div>\n",
              "<style scoped>\n",
              "    .dataframe tbody tr th:only-of-type {\n",
              "        vertical-align: middle;\n",
              "    }\n",
              "\n",
              "    .dataframe tbody tr th {\n",
              "        vertical-align: top;\n",
              "    }\n",
              "\n",
              "    .dataframe thead th {\n",
              "        text-align: right;\n",
              "    }\n",
              "</style>\n",
              "<table border=\"1\" class=\"dataframe\">\n",
              "  <thead>\n",
              "    <tr style=\"text-align: right;\">\n",
              "      <th></th>\n",
              "      <th>0</th>\n",
              "    </tr>\n",
              "  </thead>\n",
              "  <tbody>\n",
              "    <tr>\n",
              "      <th>Age</th>\n",
              "      <td>0</td>\n",
              "    </tr>\n",
              "    <tr>\n",
              "      <th>Sex</th>\n",
              "      <td>0</td>\n",
              "    </tr>\n",
              "    <tr>\n",
              "      <th>WaistCirc</th>\n",
              "      <td>0</td>\n",
              "    </tr>\n",
              "    <tr>\n",
              "      <th>BMI</th>\n",
              "      <td>0</td>\n",
              "    </tr>\n",
              "    <tr>\n",
              "      <th>BloodGlucose</th>\n",
              "      <td>0</td>\n",
              "    </tr>\n",
              "    <tr>\n",
              "      <th>HDL</th>\n",
              "      <td>0</td>\n",
              "    </tr>\n",
              "    <tr>\n",
              "      <th>Triglycerides</th>\n",
              "      <td>0</td>\n",
              "    </tr>\n",
              "    <tr>\n",
              "      <th>MetabolicSyndrome</th>\n",
              "      <td>0</td>\n",
              "    </tr>\n",
              "  </tbody>\n",
              "</table>\n",
              "</div><br><label><b>dtype:</b> int64</label>"
            ]
          },
          "metadata": {},
          "execution_count": 15
        }
      ]
    },
    {
      "cell_type": "markdown",
      "source": [
        "**Encoding**"
      ],
      "metadata": {
        "id": "kNHJCE5tnGpL"
      }
    },
    {
      "cell_type": "markdown",
      "source": [
        "Encoding diperlukan untuk mengubah kelas kategorikal menjadi numerik"
      ],
      "metadata": {
        "id": "2E_zKZRorvZB"
      }
    },
    {
      "cell_type": "code",
      "source": [
        "le = LabelEncoder()\n",
        "# Melakukan encoding pada fitur MetabolicSyndrome\n",
        "df['MetabolicSyndrome'] = le.fit_transform(df['MetabolicSyndrome'])"
      ],
      "metadata": {
        "id": "jN6_B22TmsU8"
      },
      "execution_count": null,
      "outputs": []
    },
    {
      "cell_type": "code",
      "source": [
        "# Menampilkan index dari kelas yang di encode\n",
        "print(le.classes_)"
      ],
      "metadata": {
        "colab": {
          "base_uri": "https://localhost:8080/"
        },
        "id": "xRlvi1g0wmDb",
        "outputId": "5f3553ef-e291-489e-b852-39859ed9db3e"
      },
      "execution_count": null,
      "outputs": [
        {
          "output_type": "stream",
          "name": "stdout",
          "text": [
            "['MetSyn' 'No MetSyn']\n"
          ]
        }
      ]
    },
    {
      "cell_type": "code",
      "source": [
        "# Melakukan encoding pada fitur 'Sex'\n",
        "df['Sex'] = le.fit_transform(df['Sex'])"
      ],
      "metadata": {
        "id": "anR5ssEgwprn"
      },
      "execution_count": null,
      "outputs": []
    },
    {
      "cell_type": "code",
      "source": [
        "# Menampilkan index dari kelas yang di encode\n",
        "print(le.classes_)"
      ],
      "metadata": {
        "colab": {
          "base_uri": "https://localhost:8080/"
        },
        "id": "xtrm6MzbwvvX",
        "outputId": "3d3be0a9-c410-460f-c3d1-aa3cdf7805a3"
      },
      "execution_count": null,
      "outputs": [
        {
          "output_type": "stream",
          "name": "stdout",
          "text": [
            "['Female' 'Male']\n"
          ]
        }
      ]
    },
    {
      "cell_type": "code",
      "source": [
        "# Menampilkan data setelah encoding\n",
        "df"
      ],
      "metadata": {
        "colab": {
          "base_uri": "https://localhost:8080/",
          "height": 424
        },
        "id": "5eQY-vL_uXQx",
        "outputId": "566b708f-1660-4ce7-85a9-3f4c5cdf8b52"
      },
      "execution_count": null,
      "outputs": [
        {
          "output_type": "execute_result",
          "data": {
            "text/plain": [
              "      Age  Sex   WaistCirc   BMI  BloodGlucose  HDL  Triglycerides  \\\n",
              "0      22    1   81.000000  23.3            92   41             84   \n",
              "1      44    0   80.100000  23.2            82   28             56   \n",
              "2      21    1   69.600000  20.1           107   43             78   \n",
              "3      43    0  120.400000  33.3           104   73            141   \n",
              "4      51    1   81.100000  20.1            95   43            126   \n",
              "...   ...  ...         ...   ...           ...  ...            ...   \n",
              "2396   48    0   98.307254  59.7           152   57            107   \n",
              "2397   30    0   98.307254  18.0            91   90             91   \n",
              "2398   28    1  100.800000  29.4            99   47             84   \n",
              "2399   27    1  106.600000  31.3           100   41            124   \n",
              "2400   60    1  106.600000  27.5            91   36            226   \n",
              "\n",
              "      MetabolicSyndrome  \n",
              "0                     1  \n",
              "1                     1  \n",
              "2                     1  \n",
              "3                     1  \n",
              "4                     1  \n",
              "...                 ...  \n",
              "2396                  1  \n",
              "2397                  1  \n",
              "2398                  1  \n",
              "2399                  0  \n",
              "2400                  0  \n",
              "\n",
              "[2401 rows x 8 columns]"
            ],
            "text/html": [
              "\n",
              "  <div id=\"df-07153e95-d36a-4498-8a82-b2704f3d9bb3\" class=\"colab-df-container\">\n",
              "    <div>\n",
              "<style scoped>\n",
              "    .dataframe tbody tr th:only-of-type {\n",
              "        vertical-align: middle;\n",
              "    }\n",
              "\n",
              "    .dataframe tbody tr th {\n",
              "        vertical-align: top;\n",
              "    }\n",
              "\n",
              "    .dataframe thead th {\n",
              "        text-align: right;\n",
              "    }\n",
              "</style>\n",
              "<table border=\"1\" class=\"dataframe\">\n",
              "  <thead>\n",
              "    <tr style=\"text-align: right;\">\n",
              "      <th></th>\n",
              "      <th>Age</th>\n",
              "      <th>Sex</th>\n",
              "      <th>WaistCirc</th>\n",
              "      <th>BMI</th>\n",
              "      <th>BloodGlucose</th>\n",
              "      <th>HDL</th>\n",
              "      <th>Triglycerides</th>\n",
              "      <th>MetabolicSyndrome</th>\n",
              "    </tr>\n",
              "  </thead>\n",
              "  <tbody>\n",
              "    <tr>\n",
              "      <th>0</th>\n",
              "      <td>22</td>\n",
              "      <td>1</td>\n",
              "      <td>81.000000</td>\n",
              "      <td>23.3</td>\n",
              "      <td>92</td>\n",
              "      <td>41</td>\n",
              "      <td>84</td>\n",
              "      <td>1</td>\n",
              "    </tr>\n",
              "    <tr>\n",
              "      <th>1</th>\n",
              "      <td>44</td>\n",
              "      <td>0</td>\n",
              "      <td>80.100000</td>\n",
              "      <td>23.2</td>\n",
              "      <td>82</td>\n",
              "      <td>28</td>\n",
              "      <td>56</td>\n",
              "      <td>1</td>\n",
              "    </tr>\n",
              "    <tr>\n",
              "      <th>2</th>\n",
              "      <td>21</td>\n",
              "      <td>1</td>\n",
              "      <td>69.600000</td>\n",
              "      <td>20.1</td>\n",
              "      <td>107</td>\n",
              "      <td>43</td>\n",
              "      <td>78</td>\n",
              "      <td>1</td>\n",
              "    </tr>\n",
              "    <tr>\n",
              "      <th>3</th>\n",
              "      <td>43</td>\n",
              "      <td>0</td>\n",
              "      <td>120.400000</td>\n",
              "      <td>33.3</td>\n",
              "      <td>104</td>\n",
              "      <td>73</td>\n",
              "      <td>141</td>\n",
              "      <td>1</td>\n",
              "    </tr>\n",
              "    <tr>\n",
              "      <th>4</th>\n",
              "      <td>51</td>\n",
              "      <td>1</td>\n",
              "      <td>81.100000</td>\n",
              "      <td>20.1</td>\n",
              "      <td>95</td>\n",
              "      <td>43</td>\n",
              "      <td>126</td>\n",
              "      <td>1</td>\n",
              "    </tr>\n",
              "    <tr>\n",
              "      <th>...</th>\n",
              "      <td>...</td>\n",
              "      <td>...</td>\n",
              "      <td>...</td>\n",
              "      <td>...</td>\n",
              "      <td>...</td>\n",
              "      <td>...</td>\n",
              "      <td>...</td>\n",
              "      <td>...</td>\n",
              "    </tr>\n",
              "    <tr>\n",
              "      <th>2396</th>\n",
              "      <td>48</td>\n",
              "      <td>0</td>\n",
              "      <td>98.307254</td>\n",
              "      <td>59.7</td>\n",
              "      <td>152</td>\n",
              "      <td>57</td>\n",
              "      <td>107</td>\n",
              "      <td>1</td>\n",
              "    </tr>\n",
              "    <tr>\n",
              "      <th>2397</th>\n",
              "      <td>30</td>\n",
              "      <td>0</td>\n",
              "      <td>98.307254</td>\n",
              "      <td>18.0</td>\n",
              "      <td>91</td>\n",
              "      <td>90</td>\n",
              "      <td>91</td>\n",
              "      <td>1</td>\n",
              "    </tr>\n",
              "    <tr>\n",
              "      <th>2398</th>\n",
              "      <td>28</td>\n",
              "      <td>1</td>\n",
              "      <td>100.800000</td>\n",
              "      <td>29.4</td>\n",
              "      <td>99</td>\n",
              "      <td>47</td>\n",
              "      <td>84</td>\n",
              "      <td>1</td>\n",
              "    </tr>\n",
              "    <tr>\n",
              "      <th>2399</th>\n",
              "      <td>27</td>\n",
              "      <td>1</td>\n",
              "      <td>106.600000</td>\n",
              "      <td>31.3</td>\n",
              "      <td>100</td>\n",
              "      <td>41</td>\n",
              "      <td>124</td>\n",
              "      <td>0</td>\n",
              "    </tr>\n",
              "    <tr>\n",
              "      <th>2400</th>\n",
              "      <td>60</td>\n",
              "      <td>1</td>\n",
              "      <td>106.600000</td>\n",
              "      <td>27.5</td>\n",
              "      <td>91</td>\n",
              "      <td>36</td>\n",
              "      <td>226</td>\n",
              "      <td>0</td>\n",
              "    </tr>\n",
              "  </tbody>\n",
              "</table>\n",
              "<p>2401 rows × 8 columns</p>\n",
              "</div>\n",
              "    <div class=\"colab-df-buttons\">\n",
              "\n",
              "  <div class=\"colab-df-container\">\n",
              "    <button class=\"colab-df-convert\" onclick=\"convertToInteractive('df-07153e95-d36a-4498-8a82-b2704f3d9bb3')\"\n",
              "            title=\"Convert this dataframe to an interactive table.\"\n",
              "            style=\"display:none;\">\n",
              "\n",
              "  <svg xmlns=\"http://www.w3.org/2000/svg\" height=\"24px\" viewBox=\"0 -960 960 960\">\n",
              "    <path d=\"M120-120v-720h720v720H120Zm60-500h600v-160H180v160Zm220 220h160v-160H400v160Zm0 220h160v-160H400v160ZM180-400h160v-160H180v160Zm440 0h160v-160H620v160ZM180-180h160v-160H180v160Zm440 0h160v-160H620v160Z\"/>\n",
              "  </svg>\n",
              "    </button>\n",
              "\n",
              "  <style>\n",
              "    .colab-df-container {\n",
              "      display:flex;\n",
              "      gap: 12px;\n",
              "    }\n",
              "\n",
              "    .colab-df-convert {\n",
              "      background-color: #E8F0FE;\n",
              "      border: none;\n",
              "      border-radius: 50%;\n",
              "      cursor: pointer;\n",
              "      display: none;\n",
              "      fill: #1967D2;\n",
              "      height: 32px;\n",
              "      padding: 0 0 0 0;\n",
              "      width: 32px;\n",
              "    }\n",
              "\n",
              "    .colab-df-convert:hover {\n",
              "      background-color: #E2EBFA;\n",
              "      box-shadow: 0px 1px 2px rgba(60, 64, 67, 0.3), 0px 1px 3px 1px rgba(60, 64, 67, 0.15);\n",
              "      fill: #174EA6;\n",
              "    }\n",
              "\n",
              "    .colab-df-buttons div {\n",
              "      margin-bottom: 4px;\n",
              "    }\n",
              "\n",
              "    [theme=dark] .colab-df-convert {\n",
              "      background-color: #3B4455;\n",
              "      fill: #D2E3FC;\n",
              "    }\n",
              "\n",
              "    [theme=dark] .colab-df-convert:hover {\n",
              "      background-color: #434B5C;\n",
              "      box-shadow: 0px 1px 3px 1px rgba(0, 0, 0, 0.15);\n",
              "      filter: drop-shadow(0px 1px 2px rgba(0, 0, 0, 0.3));\n",
              "      fill: #FFFFFF;\n",
              "    }\n",
              "  </style>\n",
              "\n",
              "    <script>\n",
              "      const buttonEl =\n",
              "        document.querySelector('#df-07153e95-d36a-4498-8a82-b2704f3d9bb3 button.colab-df-convert');\n",
              "      buttonEl.style.display =\n",
              "        google.colab.kernel.accessAllowed ? 'block' : 'none';\n",
              "\n",
              "      async function convertToInteractive(key) {\n",
              "        const element = document.querySelector('#df-07153e95-d36a-4498-8a82-b2704f3d9bb3');\n",
              "        const dataTable =\n",
              "          await google.colab.kernel.invokeFunction('convertToInteractive',\n",
              "                                                    [key], {});\n",
              "        if (!dataTable) return;\n",
              "\n",
              "        const docLinkHtml = 'Like what you see? Visit the ' +\n",
              "          '<a target=\"_blank\" href=https://colab.research.google.com/notebooks/data_table.ipynb>data table notebook</a>'\n",
              "          + ' to learn more about interactive tables.';\n",
              "        element.innerHTML = '';\n",
              "        dataTable['output_type'] = 'display_data';\n",
              "        await google.colab.output.renderOutput(dataTable, element);\n",
              "        const docLink = document.createElement('div');\n",
              "        docLink.innerHTML = docLinkHtml;\n",
              "        element.appendChild(docLink);\n",
              "      }\n",
              "    </script>\n",
              "  </div>\n",
              "\n",
              "\n",
              "    <div id=\"df-f421ab72-3d2e-4540-8ad5-da066ae88692\">\n",
              "      <button class=\"colab-df-quickchart\" onclick=\"quickchart('df-f421ab72-3d2e-4540-8ad5-da066ae88692')\"\n",
              "                title=\"Suggest charts\"\n",
              "                style=\"display:none;\">\n",
              "\n",
              "<svg xmlns=\"http://www.w3.org/2000/svg\" height=\"24px\"viewBox=\"0 0 24 24\"\n",
              "     width=\"24px\">\n",
              "    <g>\n",
              "        <path d=\"M19 3H5c-1.1 0-2 .9-2 2v14c0 1.1.9 2 2 2h14c1.1 0 2-.9 2-2V5c0-1.1-.9-2-2-2zM9 17H7v-7h2v7zm4 0h-2V7h2v10zm4 0h-2v-4h2v4z\"/>\n",
              "    </g>\n",
              "</svg>\n",
              "      </button>\n",
              "\n",
              "<style>\n",
              "  .colab-df-quickchart {\n",
              "      --bg-color: #E8F0FE;\n",
              "      --fill-color: #1967D2;\n",
              "      --hover-bg-color: #E2EBFA;\n",
              "      --hover-fill-color: #174EA6;\n",
              "      --disabled-fill-color: #AAA;\n",
              "      --disabled-bg-color: #DDD;\n",
              "  }\n",
              "\n",
              "  [theme=dark] .colab-df-quickchart {\n",
              "      --bg-color: #3B4455;\n",
              "      --fill-color: #D2E3FC;\n",
              "      --hover-bg-color: #434B5C;\n",
              "      --hover-fill-color: #FFFFFF;\n",
              "      --disabled-bg-color: #3B4455;\n",
              "      --disabled-fill-color: #666;\n",
              "  }\n",
              "\n",
              "  .colab-df-quickchart {\n",
              "    background-color: var(--bg-color);\n",
              "    border: none;\n",
              "    border-radius: 50%;\n",
              "    cursor: pointer;\n",
              "    display: none;\n",
              "    fill: var(--fill-color);\n",
              "    height: 32px;\n",
              "    padding: 0;\n",
              "    width: 32px;\n",
              "  }\n",
              "\n",
              "  .colab-df-quickchart:hover {\n",
              "    background-color: var(--hover-bg-color);\n",
              "    box-shadow: 0 1px 2px rgba(60, 64, 67, 0.3), 0 1px 3px 1px rgba(60, 64, 67, 0.15);\n",
              "    fill: var(--button-hover-fill-color);\n",
              "  }\n",
              "\n",
              "  .colab-df-quickchart-complete:disabled,\n",
              "  .colab-df-quickchart-complete:disabled:hover {\n",
              "    background-color: var(--disabled-bg-color);\n",
              "    fill: var(--disabled-fill-color);\n",
              "    box-shadow: none;\n",
              "  }\n",
              "\n",
              "  .colab-df-spinner {\n",
              "    border: 2px solid var(--fill-color);\n",
              "    border-color: transparent;\n",
              "    border-bottom-color: var(--fill-color);\n",
              "    animation:\n",
              "      spin 1s steps(1) infinite;\n",
              "  }\n",
              "\n",
              "  @keyframes spin {\n",
              "    0% {\n",
              "      border-color: transparent;\n",
              "      border-bottom-color: var(--fill-color);\n",
              "      border-left-color: var(--fill-color);\n",
              "    }\n",
              "    20% {\n",
              "      border-color: transparent;\n",
              "      border-left-color: var(--fill-color);\n",
              "      border-top-color: var(--fill-color);\n",
              "    }\n",
              "    30% {\n",
              "      border-color: transparent;\n",
              "      border-left-color: var(--fill-color);\n",
              "      border-top-color: var(--fill-color);\n",
              "      border-right-color: var(--fill-color);\n",
              "    }\n",
              "    40% {\n",
              "      border-color: transparent;\n",
              "      border-right-color: var(--fill-color);\n",
              "      border-top-color: var(--fill-color);\n",
              "    }\n",
              "    60% {\n",
              "      border-color: transparent;\n",
              "      border-right-color: var(--fill-color);\n",
              "    }\n",
              "    80% {\n",
              "      border-color: transparent;\n",
              "      border-right-color: var(--fill-color);\n",
              "      border-bottom-color: var(--fill-color);\n",
              "    }\n",
              "    90% {\n",
              "      border-color: transparent;\n",
              "      border-bottom-color: var(--fill-color);\n",
              "    }\n",
              "  }\n",
              "</style>\n",
              "\n",
              "      <script>\n",
              "        async function quickchart(key) {\n",
              "          const quickchartButtonEl =\n",
              "            document.querySelector('#' + key + ' button');\n",
              "          quickchartButtonEl.disabled = true;  // To prevent multiple clicks.\n",
              "          quickchartButtonEl.classList.add('colab-df-spinner');\n",
              "          try {\n",
              "            const charts = await google.colab.kernel.invokeFunction(\n",
              "                'suggestCharts', [key], {});\n",
              "          } catch (error) {\n",
              "            console.error('Error during call to suggestCharts:', error);\n",
              "          }\n",
              "          quickchartButtonEl.classList.remove('colab-df-spinner');\n",
              "          quickchartButtonEl.classList.add('colab-df-quickchart-complete');\n",
              "        }\n",
              "        (() => {\n",
              "          let quickchartButtonEl =\n",
              "            document.querySelector('#df-f421ab72-3d2e-4540-8ad5-da066ae88692 button');\n",
              "          quickchartButtonEl.style.display =\n",
              "            google.colab.kernel.accessAllowed ? 'block' : 'none';\n",
              "        })();\n",
              "      </script>\n",
              "    </div>\n",
              "\n",
              "  <div id=\"id_81325142-f4f7-4719-9a18-52cdfe5bf6e0\">\n",
              "    <style>\n",
              "      .colab-df-generate {\n",
              "        background-color: #E8F0FE;\n",
              "        border: none;\n",
              "        border-radius: 50%;\n",
              "        cursor: pointer;\n",
              "        display: none;\n",
              "        fill: #1967D2;\n",
              "        height: 32px;\n",
              "        padding: 0 0 0 0;\n",
              "        width: 32px;\n",
              "      }\n",
              "\n",
              "      .colab-df-generate:hover {\n",
              "        background-color: #E2EBFA;\n",
              "        box-shadow: 0px 1px 2px rgba(60, 64, 67, 0.3), 0px 1px 3px 1px rgba(60, 64, 67, 0.15);\n",
              "        fill: #174EA6;\n",
              "      }\n",
              "\n",
              "      [theme=dark] .colab-df-generate {\n",
              "        background-color: #3B4455;\n",
              "        fill: #D2E3FC;\n",
              "      }\n",
              "\n",
              "      [theme=dark] .colab-df-generate:hover {\n",
              "        background-color: #434B5C;\n",
              "        box-shadow: 0px 1px 3px 1px rgba(0, 0, 0, 0.15);\n",
              "        filter: drop-shadow(0px 1px 2px rgba(0, 0, 0, 0.3));\n",
              "        fill: #FFFFFF;\n",
              "      }\n",
              "    </style>\n",
              "    <button class=\"colab-df-generate\" onclick=\"generateWithVariable('df')\"\n",
              "            title=\"Generate code using this dataframe.\"\n",
              "            style=\"display:none;\">\n",
              "\n",
              "  <svg xmlns=\"http://www.w3.org/2000/svg\" height=\"24px\"viewBox=\"0 0 24 24\"\n",
              "       width=\"24px\">\n",
              "    <path d=\"M7,19H8.4L18.45,9,17,7.55,7,17.6ZM5,21V16.75L18.45,3.32a2,2,0,0,1,2.83,0l1.4,1.43a1.91,1.91,0,0,1,.58,1.4,1.91,1.91,0,0,1-.58,1.4L9.25,21ZM18.45,9,17,7.55Zm-12,3A5.31,5.31,0,0,0,4.9,8.1,5.31,5.31,0,0,0,1,6.5,5.31,5.31,0,0,0,4.9,4.9,5.31,5.31,0,0,0,6.5,1,5.31,5.31,0,0,0,8.1,4.9,5.31,5.31,0,0,0,12,6.5,5.46,5.46,0,0,0,6.5,12Z\"/>\n",
              "  </svg>\n",
              "    </button>\n",
              "    <script>\n",
              "      (() => {\n",
              "      const buttonEl =\n",
              "        document.querySelector('#id_81325142-f4f7-4719-9a18-52cdfe5bf6e0 button.colab-df-generate');\n",
              "      buttonEl.style.display =\n",
              "        google.colab.kernel.accessAllowed ? 'block' : 'none';\n",
              "\n",
              "      buttonEl.onclick = () => {\n",
              "        google.colab.notebook.generateWithVariable('df');\n",
              "      }\n",
              "      })();\n",
              "    </script>\n",
              "  </div>\n",
              "\n",
              "    </div>\n",
              "  </div>\n"
            ],
            "application/vnd.google.colaboratory.intrinsic+json": {
              "type": "dataframe",
              "variable_name": "df",
              "summary": "{\n  \"name\": \"df\",\n  \"rows\": 2401,\n  \"fields\": [\n    {\n      \"column\": \"Age\",\n      \"properties\": {\n        \"dtype\": \"number\",\n        \"std\": 17,\n        \"min\": 20,\n        \"max\": 80,\n        \"num_unique_values\": 61,\n        \"samples\": [\n          22,\n          80,\n          37\n        ],\n        \"semantic_type\": \"\",\n        \"description\": \"\"\n      }\n    },\n    {\n      \"column\": \"Sex\",\n      \"properties\": {\n        \"dtype\": \"number\",\n        \"std\": 0,\n        \"min\": 0,\n        \"max\": 1,\n        \"num_unique_values\": 2,\n        \"samples\": [\n          0,\n          1\n        ],\n        \"semantic_type\": \"\",\n        \"description\": \"\"\n      }\n    },\n    {\n      \"column\": \"WaistCirc\",\n      \"properties\": {\n        \"dtype\": \"number\",\n        \"std\": 15.962232745540257,\n        \"min\": 56.2,\n        \"max\": 176.0,\n        \"num_unique_values\": 636,\n        \"samples\": [\n          72.9,\n          87.1\n        ],\n        \"semantic_type\": \"\",\n        \"description\": \"\"\n      }\n    },\n    {\n      \"column\": \"BMI\",\n      \"properties\": {\n        \"dtype\": \"number\",\n        \"std\": 6.62605679039002,\n        \"min\": 13.4,\n        \"max\": 68.7,\n        \"num_unique_values\": 323,\n        \"samples\": [\n          20.0,\n          30.1\n        ],\n        \"semantic_type\": \"\",\n        \"description\": \"\"\n      }\n    },\n    {\n      \"column\": \"BloodGlucose\",\n      \"properties\": {\n        \"dtype\": \"number\",\n        \"std\": 34,\n        \"min\": 39,\n        \"max\": 382,\n        \"num_unique_values\": 187,\n        \"samples\": [\n          292,\n          192\n        ],\n        \"semantic_type\": \"\",\n        \"description\": \"\"\n      }\n    },\n    {\n      \"column\": \"HDL\",\n      \"properties\": {\n        \"dtype\": \"number\",\n        \"std\": 15,\n        \"min\": 14,\n        \"max\": 156,\n        \"num_unique_values\": 93,\n        \"samples\": [\n          32,\n          50\n        ],\n        \"semantic_type\": \"\",\n        \"description\": \"\"\n      }\n    },\n    {\n      \"column\": \"Triglycerides\",\n      \"properties\": {\n        \"dtype\": \"number\",\n        \"std\": 95,\n        \"min\": 26,\n        \"max\": 1562,\n        \"num_unique_values\": 345,\n        \"samples\": [\n          233,\n          173\n        ],\n        \"semantic_type\": \"\",\n        \"description\": \"\"\n      }\n    },\n    {\n      \"column\": \"MetabolicSyndrome\",\n      \"properties\": {\n        \"dtype\": \"number\",\n        \"std\": 0,\n        \"min\": 0,\n        \"max\": 1,\n        \"num_unique_values\": 2,\n        \"samples\": [\n          0,\n          1\n        ],\n        \"semantic_type\": \"\",\n        \"description\": \"\"\n      }\n    }\n  ]\n}"
            }
          },
          "metadata": {},
          "execution_count": 20
        }
      ]
    },
    {
      "cell_type": "markdown",
      "source": [
        "**Penanganan Outlier**"
      ],
      "metadata": {
        "id": "PxAhf21SGUmB"
      }
    },
    {
      "cell_type": "code",
      "source": [
        "df.plot(kind='box', subplots=True, layout=(4,4), figsize=(15, 15))\n",
        "plt.show()"
      ],
      "metadata": {
        "outputId": "b9a98f5f-ab88-4ea0-dc8e-2347c85e69d9",
        "colab": {
          "base_uri": "https://localhost:8080/",
          "height": 426
        },
        "id": "yO7bg4aiwVaJ"
      },
      "execution_count": null,
      "outputs": [
        {
          "output_type": "display_data",
          "data": {
            "text/plain": [
              "<Figure size 1500x1500 with 16 Axes>"
            ],
            "image/png": "[encoded data removed]"
          },
          "metadata": {}
        }
      ]
    },
    {
      "cell_type": "code",
      "source": [
        "kolom_numerik = df.select_dtypes(include=['number'])\n",
        "\n",
        "for column in kolom_numerik:\n",
        "    # Hitung Q1 dan Q3\n",
        "    quantiles = df[column].quantile([0.25, 0.75])\n",
        "    q1, q3 = quantiles[0.25], quantiles[0.75]\n",
        "\n",
        "    # Hitung IQR, lower bound, upper bound\n",
        "    iqr = q3 - q1\n",
        "    lower_bound = q1 - 1.5 * iqr\n",
        "    upper_bound = q3 + 1.5 * iqr\n",
        "\n",
        "    # Menangani outlier dengan batas atas bawah\n",
        "    df[column] = df[column].clip(lower_bound, upper_bound)"
      ],
      "metadata": {
        "id": "OZr0eTBDvWdR"
      },
      "execution_count": null,
      "outputs": []
    },
    {
      "cell_type": "code",
      "source": [
        "df.plot(kind='box', subplots=True, layout=(4,4), figsize=(15, 15))\n",
        "plt.show()"
      ],
      "metadata": {
        "colab": {
          "base_uri": "https://localhost:8080/",
          "height": 426
        },
        "id": "TeA5PFdHxFqA",
        "outputId": "c797dcf3-e118-45a6-ae67-b96f47e9bbe5"
      },
      "execution_count": null,
      "outputs": [
        {
          "output_type": "display_data",
          "data": {
            "text/plain": [
              "<Figure size 1500x1500 with 16 Axes>"
            ],
            "image/png": "[encoded data removed]"
          },
          "metadata": {}
        }
      ]
    },
    {
      "cell_type": "markdown",
      "source": [
        "**Menentukan fitur  X dan y**"
      ],
      "metadata": {
        "id": "OpU4O4mvsR4t"
      }
    },
    {
      "cell_type": "code",
      "source": [
        "X = df.drop('MetabolicSyndrome', axis=1) # drop fitur MetabolicSyndrome\n",
        "y = df['MetabolicSyndrome'] # Mengambil fitur MEtabolicSyndrome"
      ],
      "metadata": {
        "id": "PUdrPn2YwzDH"
      },
      "execution_count": null,
      "outputs": []
    },
    {
      "cell_type": "code",
      "source": [
        "X"
      ],
      "metadata": {
        "colab": {
          "base_uri": "https://localhost:8080/",
          "height": 424
        },
        "id": "uHyCTtwnnTKF",
        "outputId": "ed238fa4-6b90-44b9-eda4-b5488d214f68"
      },
      "execution_count": null,
      "outputs": [
        {
          "output_type": "execute_result",
          "data": {
            "text/plain": [
              "      Age  Sex   WaistCirc   BMI  BloodGlucose   HDL  Triglycerides\n",
              "0      22    1   81.000000  23.3            92  41.0           84.0\n",
              "1      44    0   80.100000  23.2            82  28.0           56.0\n",
              "2      21    1   69.600000  20.1           107  43.0           78.0\n",
              "3      43    0  120.400000  33.3           104  73.0          141.0\n",
              "4      51    1   81.100000  20.1            95  43.0          126.0\n",
              "...   ...  ...         ...   ...           ...   ...            ...\n",
              "2396   48    0   98.307254  44.0           137  57.0          107.0\n",
              "2397   30    0   98.307254  18.0            91  90.0           91.0\n",
              "2398   28    1  100.800000  29.4            99  47.0           84.0\n",
              "2399   27    1  106.600000  31.3           100  41.0          124.0\n",
              "2400   60    1  106.600000  27.5            91  36.0          226.0\n",
              "\n",
              "[2401 rows x 7 columns]"
            ],
            "text/html": [
              "\n",
              "  <div id=\"df-79a3d25f-0c15-4034-a58d-51eb47c18ae7\" class=\"colab-df-container\">\n",
              "    <div>\n",
              "<style scoped>\n",
              "    .dataframe tbody tr th:only-of-type {\n",
              "        vertical-align: middle;\n",
              "    }\n",
              "\n",
              "    .dataframe tbody tr th {\n",
              "        vertical-align: top;\n",
              "    }\n",
              "\n",
              "    .dataframe thead th {\n",
              "        text-align: right;\n",
              "    }\n",
              "</style>\n",
              "<table border=\"1\" class=\"dataframe\">\n",
              "  <thead>\n",
              "    <tr style=\"text-align: right;\">\n",
              "      <th></th>\n",
              "      <th>Age</th>\n",
              "      <th>Sex</th>\n",
              "      <th>WaistCirc</th>\n",
              "      <th>BMI</th>\n",
              "      <th>BloodGlucose</th>\n",
              "      <th>HDL</th>\n",
              "      <th>Triglycerides</th>\n",
              "    </tr>\n",
              "  </thead>\n",
              "  <tbody>\n",
              "    <tr>\n",
              "      <th>0</th>\n",
              "      <td>22</td>\n",
              "      <td>1</td>\n",
              "      <td>81.000000</td>\n",
              "      <td>23.3</td>\n",
              "      <td>92</td>\n",
              "      <td>41.0</td>\n",
              "      <td>84.0</td>\n",
              "    </tr>\n",
              "    <tr>\n",
              "      <th>1</th>\n",
              "      <td>44</td>\n",
              "      <td>0</td>\n",
              "      <td>80.100000</td>\n",
              "      <td>23.2</td>\n",
              "      <td>82</td>\n",
              "      <td>28.0</td>\n",
              "      <td>56.0</td>\n",
              "    </tr>\n",
              "    <tr>\n",
              "      <th>2</th>\n",
              "      <td>21</td>\n",
              "      <td>1</td>\n",
              "      <td>69.600000</td>\n",
              "      <td>20.1</td>\n",
              "      <td>107</td>\n",
              "      <td>43.0</td>\n",
              "      <td>78.0</td>\n",
              "    </tr>\n",
              "    <tr>\n",
              "      <th>3</th>\n",
              "      <td>43</td>\n",
              "      <td>0</td>\n",
              "      <td>120.400000</td>\n",
              "      <td>33.3</td>\n",
              "      <td>104</td>\n",
              "      <td>73.0</td>\n",
              "      <td>141.0</td>\n",
              "    </tr>\n",
              "    <tr>\n",
              "      <th>4</th>\n",
              "      <td>51</td>\n",
              "      <td>1</td>\n",
              "      <td>81.100000</td>\n",
              "      <td>20.1</td>\n",
              "      <td>95</td>\n",
              "      <td>43.0</td>\n",
              "      <td>126.0</td>\n",
              "    </tr>\n",
              "    <tr>\n",
              "      <th>...</th>\n",
              "      <td>...</td>\n",
              "      <td>...</td>\n",
              "      <td>...</td>\n",
              "      <td>...</td>\n",
              "      <td>...</td>\n",
              "      <td>...</td>\n",
              "      <td>...</td>\n",
              "    </tr>\n",
              "    <tr>\n",
              "      <th>2396</th>\n",
              "      <td>48</td>\n",
              "      <td>0</td>\n",
              "      <td>98.307254</td>\n",
              "      <td>44.0</td>\n",
              "      <td>137</td>\n",
              "      <td>57.0</td>\n",
              "      <td>107.0</td>\n",
              "    </tr>\n",
              "    <tr>\n",
              "      <th>2397</th>\n",
              "      <td>30</td>\n",
              "      <td>0</td>\n",
              "      <td>98.307254</td>\n",
              "      <td>18.0</td>\n",
              "      <td>91</td>\n",
              "      <td>90.0</td>\n",
              "      <td>91.0</td>\n",
              "    </tr>\n",
              "    <tr>\n",
              "      <th>2398</th>\n",
              "      <td>28</td>\n",
              "      <td>1</td>\n",
              "      <td>100.800000</td>\n",
              "      <td>29.4</td>\n",
              "      <td>99</td>\n",
              "      <td>47.0</td>\n",
              "      <td>84.0</td>\n",
              "    </tr>\n",
              "    <tr>\n",
              "      <th>2399</th>\n",
              "      <td>27</td>\n",
              "      <td>1</td>\n",
              "      <td>106.600000</td>\n",
              "      <td>31.3</td>\n",
              "      <td>100</td>\n",
              "      <td>41.0</td>\n",
              "      <td>124.0</td>\n",
              "    </tr>\n",
              "    <tr>\n",
              "      <th>2400</th>\n",
              "      <td>60</td>\n",
              "      <td>1</td>\n",
              "      <td>106.600000</td>\n",
              "      <td>27.5</td>\n",
              "      <td>91</td>\n",
              "      <td>36.0</td>\n",
              "      <td>226.0</td>\n",
              "    </tr>\n",
              "  </tbody>\n",
              "</table>\n",
              "<p>2401 rows × 7 columns</p>\n",
              "</div>\n",
              "    <div class=\"colab-df-buttons\">\n",
              "\n",
              "  <div class=\"colab-df-container\">\n",
              "    <button class=\"colab-df-convert\" onclick=\"convertToInteractive('df-79a3d25f-0c15-4034-a58d-51eb47c18ae7')\"\n",
              "            title=\"Convert this dataframe to an interactive table.\"\n",
              "            style=\"display:none;\">\n",
              "\n",
              "  <svg xmlns=\"http://www.w3.org/2000/svg\" height=\"24px\" viewBox=\"0 -960 960 960\">\n",
              "    <path d=\"M120-120v-720h720v720H120Zm60-500h600v-160H180v160Zm220 220h160v-160H400v160Zm0 220h160v-160H400v160ZM180-400h160v-160H180v160Zm440 0h160v-160H620v160ZM180-180h160v-160H180v160Zm440 0h160v-160H620v160Z\"/>\n",
              "  </svg>\n",
              "    </button>\n",
              "\n",
              "  <style>\n",
              "    .colab-df-container {\n",
              "      display:flex;\n",
              "      gap: 12px;\n",
              "    }\n",
              "\n",
              "    .colab-df-convert {\n",
              "      background-color: #E8F0FE;\n",
              "      border: none;\n",
              "      border-radius: 50%;\n",
              "      cursor: pointer;\n",
              "      display: none;\n",
              "      fill: #1967D2;\n",
              "      height: 32px;\n",
              "      padding: 0 0 0 0;\n",
              "      width: 32px;\n",
              "    }\n",
              "\n",
              "    .colab-df-convert:hover {\n",
              "      background-color: #E2EBFA;\n",
              "      box-shadow: 0px 1px 2px rgba(60, 64, 67, 0.3), 0px 1px 3px 1px rgba(60, 64, 67, 0.15);\n",
              "      fill: #174EA6;\n",
              "    }\n",
              "\n",
              "    .colab-df-buttons div {\n",
              "      margin-bottom: 4px;\n",
              "    }\n",
              "\n",
              "    [theme=dark] .colab-df-convert {\n",
              "      background-color: #3B4455;\n",
              "      fill: #D2E3FC;\n",
              "    }\n",
              "\n",
              "    [theme=dark] .colab-df-convert:hover {\n",
              "      background-color: #434B5C;\n",
              "      box-shadow: 0px 1px 3px 1px rgba(0, 0, 0, 0.15);\n",
              "      filter: drop-shadow(0px 1px 2px rgba(0, 0, 0, 0.3));\n",
              "      fill: #FFFFFF;\n",
              "    }\n",
              "  </style>\n",
              "\n",
              "    <script>\n",
              "      const buttonEl =\n",
              "        document.querySelector('#df-79a3d25f-0c15-4034-a58d-51eb47c18ae7 button.colab-df-convert');\n",
              "      buttonEl.style.display =\n",
              "        google.colab.kernel.accessAllowed ? 'block' : 'none';\n",
              "\n",
              "      async function convertToInteractive(key) {\n",
              "        const element = document.querySelector('#df-79a3d25f-0c15-4034-a58d-51eb47c18ae7');\n",
              "        const dataTable =\n",
              "          await google.colab.kernel.invokeFunction('convertToInteractive',\n",
              "                                                    [key], {});\n",
              "        if (!dataTable) return;\n",
              "\n",
              "        const docLinkHtml = 'Like what you see? Visit the ' +\n",
              "          '<a target=\"_blank\" href=https://colab.research.google.com/notebooks/data_table.ipynb>data table notebook</a>'\n",
              "          + ' to learn more about interactive tables.';\n",
              "        element.innerHTML = '';\n",
              "        dataTable['output_type'] = 'display_data';\n",
              "        await google.colab.output.renderOutput(dataTable, element);\n",
              "        const docLink = document.createElement('div');\n",
              "        docLink.innerHTML = docLinkHtml;\n",
              "        element.appendChild(docLink);\n",
              "      }\n",
              "    </script>\n",
              "  </div>\n",
              "\n",
              "\n",
              "    <div id=\"df-4e40851f-c833-4245-bc81-94cad4bf363a\">\n",
              "      <button class=\"colab-df-quickchart\" onclick=\"quickchart('df-4e40851f-c833-4245-bc81-94cad4bf363a')\"\n",
              "                title=\"Suggest charts\"\n",
              "                style=\"display:none;\">\n",
              "\n",
              "<svg xmlns=\"http://www.w3.org/2000/svg\" height=\"24px\"viewBox=\"0 0 24 24\"\n",
              "     width=\"24px\">\n",
              "    <g>\n",
              "        <path d=\"M19 3H5c-1.1 0-2 .9-2 2v14c0 1.1.9 2 2 2h14c1.1 0 2-.9 2-2V5c0-1.1-.9-2-2-2zM9 17H7v-7h2v7zm4 0h-2V7h2v10zm4 0h-2v-4h2v4z\"/>\n",
              "    </g>\n",
              "</svg>\n",
              "      </button>\n",
              "\n",
              "<style>\n",
              "  .colab-df-quickchart {\n",
              "      --bg-color: #E8F0FE;\n",
              "      --fill-color: #1967D2;\n",
              "      --hover-bg-color: #E2EBFA;\n",
              "      --hover-fill-color: #174EA6;\n",
              "      --disabled-fill-color: #AAA;\n",
              "      --disabled-bg-color: #DDD;\n",
              "  }\n",
              "\n",
              "  [theme=dark] .colab-df-quickchart {\n",
              "      --bg-color: #3B4455;\n",
              "      --fill-color: #D2E3FC;\n",
              "      --hover-bg-color: #434B5C;\n",
              "      --hover-fill-color: #FFFFFF;\n",
              "      --disabled-bg-color: #3B4455;\n",
              "      --disabled-fill-color: #666;\n",
              "  }\n",
              "\n",
              "  .colab-df-quickchart {\n",
              "    background-color: var(--bg-color);\n",
              "    border: none;\n",
              "    border-radius: 50%;\n",
              "    cursor: pointer;\n",
              "    display: none;\n",
              "    fill: var(--fill-color);\n",
              "    height: 32px;\n",
              "    padding: 0;\n",
              "    width: 32px;\n",
              "  }\n",
              "\n",
              "  .colab-df-quickchart:hover {\n",
              "    background-color: var(--hover-bg-color);\n",
              "    box-shadow: 0 1px 2px rgba(60, 64, 67, 0.3), 0 1px 3px 1px rgba(60, 64, 67, 0.15);\n",
              "    fill: var(--button-hover-fill-color);\n",
              "  }\n",
              "\n",
              "  .colab-df-quickchart-complete:disabled,\n",
              "  .colab-df-quickchart-complete:disabled:hover {\n",
              "    background-color: var(--disabled-bg-color);\n",
              "    fill: var(--disabled-fill-color);\n",
              "    box-shadow: none;\n",
              "  }\n",
              "\n",
              "  .colab-df-spinner {\n",
              "    border: 2px solid var(--fill-color);\n",
              "    border-color: transparent;\n",
              "    border-bottom-color: var(--fill-color);\n",
              "    animation:\n",
              "      spin 1s steps(1) infinite;\n",
              "  }\n",
              "\n",
              "  @keyframes spin {\n",
              "    0% {\n",
              "      border-color: transparent;\n",
              "      border-bottom-color: var(--fill-color);\n",
              "      border-left-color: var(--fill-color);\n",
              "    }\n",
              "    20% {\n",
              "      border-color: transparent;\n",
              "      border-left-color: var(--fill-color);\n",
              "      border-top-color: var(--fill-color);\n",
              "    }\n",
              "    30% {\n",
              "      border-color: transparent;\n",
              "      border-left-color: var(--fill-color);\n",
              "      border-top-color: var(--fill-color);\n",
              "      border-right-color: var(--fill-color);\n",
              "    }\n",
              "    40% {\n",
              "      border-color: transparent;\n",
              "      border-right-color: var(--fill-color);\n",
              "      border-top-color: var(--fill-color);\n",
              "    }\n",
              "    60% {\n",
              "      border-color: transparent;\n",
              "      border-right-color: var(--fill-color);\n",
              "    }\n",
              "    80% {\n",
              "      border-color: transparent;\n",
              "      border-right-color: var(--fill-color);\n",
              "      border-bottom-color: var(--fill-color);\n",
              "    }\n",
              "    90% {\n",
              "      border-color: transparent;\n",
              "      border-bottom-color: var(--fill-color);\n",
              "    }\n",
              "  }\n",
              "</style>\n",
              "\n",
              "      <script>\n",
              "        async function quickchart(key) {\n",
              "          const quickchartButtonEl =\n",
              "            document.querySelector('#' + key + ' button');\n",
              "          quickchartButtonEl.disabled = true;  // To prevent multiple clicks.\n",
              "          quickchartButtonEl.classList.add('colab-df-spinner');\n",
              "          try {\n",
              "            const charts = await google.colab.kernel.invokeFunction(\n",
              "                'suggestCharts', [key], {});\n",
              "          } catch (error) {\n",
              "            console.error('Error during call to suggestCharts:', error);\n",
              "          }\n",
              "          quickchartButtonEl.classList.remove('colab-df-spinner');\n",
              "          quickchartButtonEl.classList.add('colab-df-quickchart-complete');\n",
              "        }\n",
              "        (() => {\n",
              "          let quickchartButtonEl =\n",
              "            document.querySelector('#df-4e40851f-c833-4245-bc81-94cad4bf363a button');\n",
              "          quickchartButtonEl.style.display =\n",
              "            google.colab.kernel.accessAllowed ? 'block' : 'none';\n",
              "        })();\n",
              "      </script>\n",
              "    </div>\n",
              "\n",
              "  <div id=\"id_58bda0f4-6861-4196-8a6a-5ab04137c51f\">\n",
              "    <style>\n",
              "      .colab-df-generate {\n",
              "        background-color: #E8F0FE;\n",
              "        border: none;\n",
              "        border-radius: 50%;\n",
              "        cursor: pointer;\n",
              "        display: none;\n",
              "        fill: #1967D2;\n",
              "        height: 32px;\n",
              "        padding: 0 0 0 0;\n",
              "        width: 32px;\n",
              "      }\n",
              "\n",
              "      .colab-df-generate:hover {\n",
              "        background-color: #E2EBFA;\n",
              "        box-shadow: 0px 1px 2px rgba(60, 64, 67, 0.3), 0px 1px 3px 1px rgba(60, 64, 67, 0.15);\n",
              "        fill: #174EA6;\n",
              "      }\n",
              "\n",
              "      [theme=dark] .colab-df-generate {\n",
              "        background-color: #3B4455;\n",
              "        fill: #D2E3FC;\n",
              "      }\n",
              "\n",
              "      [theme=dark] .colab-df-generate:hover {\n",
              "        background-color: #434B5C;\n",
              "        box-shadow: 0px 1px 3px 1px rgba(0, 0, 0, 0.15);\n",
              "        filter: drop-shadow(0px 1px 2px rgba(0, 0, 0, 0.3));\n",
              "        fill: #FFFFFF;\n",
              "      }\n",
              "    </style>\n",
              "    <button class=\"colab-df-generate\" onclick=\"generateWithVariable('X')\"\n",
              "            title=\"Generate code using this dataframe.\"\n",
              "            style=\"display:none;\">\n",
              "\n",
              "  <svg xmlns=\"http://www.w3.org/2000/svg\" height=\"24px\"viewBox=\"0 0 24 24\"\n",
              "       width=\"24px\">\n",
              "    <path d=\"M7,19H8.4L18.45,9,17,7.55,7,17.6ZM5,21V16.75L18.45,3.32a2,2,0,0,1,2.83,0l1.4,1.43a1.91,1.91,0,0,1,.58,1.4,1.91,1.91,0,0,1-.58,1.4L9.25,21ZM18.45,9,17,7.55Zm-12,3A5.31,5.31,0,0,0,4.9,8.1,5.31,5.31,0,0,0,1,6.5,5.31,5.31,0,0,0,4.9,4.9,5.31,5.31,0,0,0,6.5,1,5.31,5.31,0,0,0,8.1,4.9,5.31,5.31,0,0,0,12,6.5,5.46,5.46,0,0,0,6.5,12Z\"/>\n",
              "  </svg>\n",
              "    </button>\n",
              "    <script>\n",
              "      (() => {\n",
              "      const buttonEl =\n",
              "        document.querySelector('#id_58bda0f4-6861-4196-8a6a-5ab04137c51f button.colab-df-generate');\n",
              "      buttonEl.style.display =\n",
              "        google.colab.kernel.accessAllowed ? 'block' : 'none';\n",
              "\n",
              "      buttonEl.onclick = () => {\n",
              "        google.colab.notebook.generateWithVariable('X');\n",
              "      }\n",
              "      })();\n",
              "    </script>\n",
              "  </div>\n",
              "\n",
              "    </div>\n",
              "  </div>\n"
            ],
            "application/vnd.google.colaboratory.intrinsic+json": {
              "type": "dataframe",
              "variable_name": "X",
              "summary": "{\n  \"name\": \"X\",\n  \"rows\": 2401,\n  \"fields\": [\n    {\n      \"column\": \"Age\",\n      \"properties\": {\n        \"dtype\": \"number\",\n        \"std\": 17,\n        \"min\": 20,\n        \"max\": 80,\n        \"num_unique_values\": 61,\n        \"samples\": [\n          22,\n          80,\n          37\n        ],\n        \"semantic_type\": \"\",\n        \"description\": \"\"\n      }\n    },\n    {\n      \"column\": \"Sex\",\n      \"properties\": {\n        \"dtype\": \"number\",\n        \"std\": 0,\n        \"min\": 0,\n        \"max\": 1,\n        \"num_unique_values\": 2,\n        \"samples\": [\n          0,\n          1\n        ],\n        \"semantic_type\": \"\",\n        \"description\": \"\"\n      }\n    },\n    {\n      \"column\": \"WaistCirc\",\n      \"properties\": {\n        \"dtype\": \"number\",\n        \"std\": 15.430586868869318,\n        \"min\": 56.699999999999996,\n        \"max\": 137.5,\n        \"num_unique_values\": 591,\n        \"samples\": [\n          95.9,\n          79.0\n        ],\n        \"semantic_type\": \"\",\n        \"description\": \"\"\n      }\n    },\n    {\n      \"column\": \"BMI\",\n      \"properties\": {\n        \"dtype\": \"number\",\n        \"std\": 6.118412224712867,\n        \"min\": 13.4,\n        \"max\": 44.0,\n        \"num_unique_values\": 267,\n        \"samples\": [\n          24.9,\n          27.4\n        ],\n        \"semantic_type\": \"\",\n        \"description\": \"\"\n      }\n    },\n    {\n      \"column\": \"BloodGlucose\",\n      \"properties\": {\n        \"dtype\": \"number\",\n        \"std\": 15,\n        \"min\": 65,\n        \"max\": 137,\n        \"num_unique_values\": 71,\n        \"samples\": [\n          108,\n          92\n        ],\n        \"semantic_type\": \"\",\n        \"description\": \"\"\n      }\n    },\n    {\n      \"column\": \"HDL\",\n      \"properties\": {\n        \"dtype\": \"number\",\n        \"std\": 14.34695026961256,\n        \"min\": 14.5,\n        \"max\": 90.5,\n        \"num_unique_values\": 72,\n        \"samples\": [\n          47.0,\n          79.0\n        ],\n        \"semantic_type\": \"\",\n        \"description\": \"\"\n      }\n    },\n    {\n      \"column\": \"Triglycerides\",\n      \"properties\": {\n        \"dtype\": \"number\",\n        \"std\": 60.60436218468797,\n        \"min\": 26.0,\n        \"max\": 262.5,\n        \"num_unique_values\": 226,\n        \"samples\": [\n          86.0,\n          165.0\n        ],\n        \"semantic_type\": \"\",\n        \"description\": \"\"\n      }\n    }\n  ]\n}"
            }
          },
          "metadata": {},
          "execution_count": 25
        }
      ]
    },
    {
      "cell_type": "code",
      "source": [
        "y"
      ],
      "metadata": {
        "colab": {
          "base_uri": "https://localhost:8080/",
          "height": 458
        },
        "id": "MvPyigUpnUpk",
        "outputId": "41fc276f-cfba-409b-bad3-54dd28f2f411"
      },
      "execution_count": null,
      "outputs": [
        {
          "output_type": "execute_result",
          "data": {
            "text/plain": [
              "0       1\n",
              "1       1\n",
              "2       1\n",
              "3       1\n",
              "4       1\n",
              "       ..\n",
              "2396    1\n",
              "2397    1\n",
              "2398    1\n",
              "2399    0\n",
              "2400    0\n",
              "Name: MetabolicSyndrome, Length: 2401, dtype: int64"
            ],
            "text/html": [
              "<div>\n",
              "<style scoped>\n",
              "    .dataframe tbody tr th:only-of-type {\n",
              "        vertical-align: middle;\n",
              "    }\n",
              "\n",
              "    .dataframe tbody tr th {\n",
              "        vertical-align: top;\n",
              "    }\n",
              "\n",
              "    .dataframe thead th {\n",
              "        text-align: right;\n",
              "    }\n",
              "</style>\n",
              "<table border=\"1\" class=\"dataframe\">\n",
              "  <thead>\n",
              "    <tr style=\"text-align: right;\">\n",
              "      <th></th>\n",
              "      <th>MetabolicSyndrome</th>\n",
              "    </tr>\n",
              "  </thead>\n",
              "  <tbody>\n",
              "    <tr>\n",
              "      <th>0</th>\n",
              "      <td>1</td>\n",
              "    </tr>\n",
              "    <tr>\n",
              "      <th>1</th>\n",
              "      <td>1</td>\n",
              "    </tr>\n",
              "    <tr>\n",
              "      <th>2</th>\n",
              "      <td>1</td>\n",
              "    </tr>\n",
              "    <tr>\n",
              "      <th>3</th>\n",
              "      <td>1</td>\n",
              "    </tr>\n",
              "    <tr>\n",
              "      <th>4</th>\n",
              "      <td>1</td>\n",
              "    </tr>\n",
              "    <tr>\n",
              "      <th>...</th>\n",
              "      <td>...</td>\n",
              "    </tr>\n",
              "    <tr>\n",
              "      <th>2396</th>\n",
              "      <td>1</td>\n",
              "    </tr>\n",
              "    <tr>\n",
              "      <th>2397</th>\n",
              "      <td>1</td>\n",
              "    </tr>\n",
              "    <tr>\n",
              "      <th>2398</th>\n",
              "      <td>1</td>\n",
              "    </tr>\n",
              "    <tr>\n",
              "      <th>2399</th>\n",
              "      <td>0</td>\n",
              "    </tr>\n",
              "    <tr>\n",
              "      <th>2400</th>\n",
              "      <td>0</td>\n",
              "    </tr>\n",
              "  </tbody>\n",
              "</table>\n",
              "<p>2401 rows × 1 columns</p>\n",
              "</div><br><label><b>dtype:</b> int64</label>"
            ]
          },
          "metadata": {},
          "execution_count": 26
        }
      ]
    },
    {
      "cell_type": "code",
      "source": [
        "# Melihat distribusi kelas sebelum balancing\n",
        "y.value_counts().sort_index().plot(kind='bar', color= ['blue', 'green'])\n",
        "plt.title('Distribusi Kelas Sebelum Balancing')\n",
        "plt.xlabel('Kelas')\n",
        "plt.ylabel('Jumlah')\n",
        "plt.xticks([0, 1], ['Metabolic Syndrome', 'No Metabolic Syndrome'], rotation=0)\n",
        "plt.show()\n",
        "\n",
        "y.value_counts()"
      ],
      "metadata": {
        "colab": {
          "base_uri": "https://localhost:8080/",
          "height": 633
        },
        "id": "hB7lua3Qncwr",
        "outputId": "e7d37f6f-322f-416b-b9f7-3775a29b0b1d"
      },
      "execution_count": null,
      "outputs": [
        {
          "output_type": "display_data",
          "data": {
            "text/plain": [
              "<Figure size 640x480 with 1 Axes>"
            ],
            "image/png": "[encoded data removed]"
          },
          "metadata": {}
        },
        {
          "output_type": "execute_result",
          "data": {
            "text/plain": [
              "MetabolicSyndrome\n",
              "1    1579\n",
              "0     822\n",
              "Name: count, dtype: int64"
            ],
            "text/html": [
              "<div>\n",
              "<style scoped>\n",
              "    .dataframe tbody tr th:only-of-type {\n",
              "        vertical-align: middle;\n",
              "    }\n",
              "\n",
              "    .dataframe tbody tr th {\n",
              "        vertical-align: top;\n",
              "    }\n",
              "\n",
              "    .dataframe thead th {\n",
              "        text-align: right;\n",
              "    }\n",
              "</style>\n",
              "<table border=\"1\" class=\"dataframe\">\n",
              "  <thead>\n",
              "    <tr style=\"text-align: right;\">\n",
              "      <th></th>\n",
              "      <th>count</th>\n",
              "    </tr>\n",
              "    <tr>\n",
              "      <th>MetabolicSyndrome</th>\n",
              "      <th></th>\n",
              "    </tr>\n",
              "  </thead>\n",
              "  <tbody>\n",
              "    <tr>\n",
              "      <th>1</th>\n",
              "      <td>1579</td>\n",
              "    </tr>\n",
              "    <tr>\n",
              "      <th>0</th>\n",
              "      <td>822</td>\n",
              "    </tr>\n",
              "  </tbody>\n",
              "</table>\n",
              "</div><br><label><b>dtype:</b> int64</label>"
            ]
          },
          "metadata": {},
          "execution_count": 27
        }
      ]
    },
    {
      "cell_type": "markdown",
      "source": [
        "\n",
        "\n",
        "> Kelas 0 = teriagnosa Sindrom Metabolik\n",
        "Kelas 1 = tidak terdiagnosa Sindrom Metabolik\n",
        "\n"
      ],
      "metadata": {
        "id": "jqGzEQHQ1Pqx"
      }
    },
    {
      "cell_type": "markdown",
      "source": [
        "# BALANCING DATA"
      ],
      "metadata": {
        "id": "ou9A8XQTHzJN"
      }
    },
    {
      "cell_type": "markdown",
      "source": [
        "**SMOTE**"
      ],
      "metadata": {
        "id": "wxvln9BQWjLK"
      }
    },
    {
      "cell_type": "code",
      "source": [
        "# Terapkan SMOTE untuk balancing data\n",
        "smote = SMOTE(random_state=42)\n",
        "X_smote, y_smote = smote.fit_resample(X, y)"
      ],
      "metadata": {
        "id": "mDtVe5tPnVwb"
      },
      "execution_count": null,
      "outputs": []
    },
    {
      "cell_type": "code",
      "source": [
        "# Melihat distribusi kelassetelah balancing dengan SMOTE\n",
        "y_smote.value_counts().sort_index().plot(kind='bar', color= ['blue', 'green'])\n",
        "plt.title('Distribusi Kelas Setelah Balancing (SMOTE)')\n",
        "plt.xlabel('Kelas')\n",
        "plt.ylabel('Jumlah')\n",
        "plt.xticks([0, 1], ['Metabolic Syndrome', 'No Metabolic Syndrome'], rotation=0)\n",
        "plt.show()\n",
        "\n",
        "y_smote.value_counts()"
      ],
      "metadata": {
        "colab": {
          "base_uri": "https://localhost:8080/",
          "height": 633
        },
        "id": "_GT0vA-h51UR",
        "outputId": "237a8731-a3aa-4ca5-98f5-0db893815a8c"
      },
      "execution_count": null,
      "outputs": [
        {
          "output_type": "display_data",
          "data": {
            "text/plain": [
              "<Figure size 640x480 with 1 Axes>"
            ],
            "image/png": "[encoded data removed]"
          },
          "metadata": {}
        },
        {
          "output_type": "execute_result",
          "data": {
            "text/plain": [
              "MetabolicSyndrome\n",
              "1    1579\n",
              "0    1579\n",
              "Name: count, dtype: int64"
            ],
            "text/html": [
              "<div>\n",
              "<style scoped>\n",
              "    .dataframe tbody tr th:only-of-type {\n",
              "        vertical-align: middle;\n",
              "    }\n",
              "\n",
              "    .dataframe tbody tr th {\n",
              "        vertical-align: top;\n",
              "    }\n",
              "\n",
              "    .dataframe thead th {\n",
              "        text-align: right;\n",
              "    }\n",
              "</style>\n",
              "<table border=\"1\" class=\"dataframe\">\n",
              "  <thead>\n",
              "    <tr style=\"text-align: right;\">\n",
              "      <th></th>\n",
              "      <th>count</th>\n",
              "    </tr>\n",
              "    <tr>\n",
              "      <th>MetabolicSyndrome</th>\n",
              "      <th></th>\n",
              "    </tr>\n",
              "  </thead>\n",
              "  <tbody>\n",
              "    <tr>\n",
              "      <th>1</th>\n",
              "      <td>1579</td>\n",
              "    </tr>\n",
              "    <tr>\n",
              "      <th>0</th>\n",
              "      <td>1579</td>\n",
              "    </tr>\n",
              "  </tbody>\n",
              "</table>\n",
              "</div><br><label><b>dtype:</b> int64</label>"
            ]
          },
          "metadata": {},
          "execution_count": 29
        }
      ]
    },
    {
      "cell_type": "markdown",
      "source": [
        "**ADASYN**"
      ],
      "metadata": {
        "id": "Aq74NU5OWh5Y"
      }
    },
    {
      "cell_type": "code",
      "source": [
        "# Terapkan ADASYN\n",
        "adasyn = ADASYN(random_state=42)\n",
        "X_resampled, y_resampled = adasyn.fit_resample(X, y)"
      ],
      "metadata": {
        "id": "WaU6qA-DWZWc"
      },
      "execution_count": null,
      "outputs": []
    },
    {
      "cell_type": "code",
      "source": [
        "# Melihat distribusi kelassetelah balancing dengan ADASYN\n",
        "y_resampled.value_counts().sort_index().plot(kind='bar', color= ['blue', 'green'])\n",
        "plt.title('Distribusi Kelas Setelah Balancing (ADASYN)')\n",
        "plt.xlabel('Kelas')\n",
        "plt.ylabel('Jumlah')\n",
        "plt.xticks([0, 1], ['Metabolic Syndrome', 'No Metabolic Syndrome'], rotation=0)\n",
        "plt.show()\n",
        "\n",
        "y_resampled.value_counts()"
      ],
      "metadata": {
        "colab": {
          "base_uri": "https://localhost:8080/",
          "height": 633
        },
        "id": "c4IbpJpSWpF1",
        "outputId": "36c6880d-f97e-4d66-8adf-a52f5734cf8c"
      },
      "execution_count": null,
      "outputs": [
        {
          "output_type": "display_data",
          "data": {
            "text/plain": [
              "<Figure size 640x480 with 1 Axes>"
            ],
            "image/png": "[encoded data removed]"
          },
          "metadata": {}
        },
        {
          "output_type": "execute_result",
          "data": {
            "text/plain": [
              "MetabolicSyndrome\n",
              "0    1613\n",
              "1    1579\n",
              "Name: count, dtype: int64"
            ],
            "text/html": [
              "<div>\n",
              "<style scoped>\n",
              "    .dataframe tbody tr th:only-of-type {\n",
              "        vertical-align: middle;\n",
              "    }\n",
              "\n",
              "    .dataframe tbody tr th {\n",
              "        vertical-align: top;\n",
              "    }\n",
              "\n",
              "    .dataframe thead th {\n",
              "        text-align: right;\n",
              "    }\n",
              "</style>\n",
              "<table border=\"1\" class=\"dataframe\">\n",
              "  <thead>\n",
              "    <tr style=\"text-align: right;\">\n",
              "      <th></th>\n",
              "      <th>count</th>\n",
              "    </tr>\n",
              "    <tr>\n",
              "      <th>MetabolicSyndrome</th>\n",
              "      <th></th>\n",
              "    </tr>\n",
              "  </thead>\n",
              "  <tbody>\n",
              "    <tr>\n",
              "      <th>0</th>\n",
              "      <td>1613</td>\n",
              "    </tr>\n",
              "    <tr>\n",
              "      <th>1</th>\n",
              "      <td>1579</td>\n",
              "    </tr>\n",
              "  </tbody>\n",
              "</table>\n",
              "</div><br><label><b>dtype:</b> int64</label>"
            ]
          },
          "metadata": {},
          "execution_count": 31
        }
      ]
    },
    {
      "cell_type": "markdown",
      "source": [
        "#MODELING RANDOM FOREST"
      ],
      "metadata": {
        "id": "2nI2Rnvnbd6k"
      }
    },
    {
      "cell_type": "markdown",
      "source": [
        "**Tanpa Balancing**"
      ],
      "metadata": {
        "id": "PqERPF94xgZ-"
      }
    },
    {
      "cell_type": "code",
      "source": [
        "# Split data\n",
        "X_train, X_test, y_train, y_test = train_test_split(X, y, test_size=0.2, random_state=42)\n",
        "\n",
        "print(f\"Ukuran Data Latih: {X_train.shape}, Ukuran Data Uji: {X_test.shape}\")"
      ],
      "metadata": {
        "colab": {
          "base_uri": "https://localhost:8080/"
        },
        "id": "DxYLQBVMnlpI",
        "outputId": "64d6ad76-797d-4560-d768-25d304e818c2"
      },
      "execution_count": null,
      "outputs": [
        {
          "output_type": "stream",
          "name": "stdout",
          "text": [
            "Ukuran Data Latih: (1920, 7), Ukuran Data Uji: (481, 7)\n"
          ]
        }
      ]
    },
    {
      "cell_type": "code",
      "source": [
        "from sklearn.metrics import accuracy_score, precision_score, recall_score, f1_score, classification_report\n",
        "# Inisialisasi Random Forest Classifier\n",
        "rf_model = RandomForestClassifier(random_state=42)\n",
        "\n",
        "# Melatih model\n",
        "rf_model.fit(X_train, y_train)\n",
        "\n",
        "# Pengujian\n",
        "y_pred = rf_model.predict(X_test)\n",
        "\n",
        "# Evaluasi model\n",
        "accuracy = accuracy_score(y_test, y_pred)\n",
        "precision = precision_score(y_test, y_pred, average='weighted')\n",
        "recall = recall_score(y_test, y_pred, average='weighted')\n",
        "f1_score = f1_score(y_test, y_pred, average='weighted')\n",
        "\n",
        "# Tampilkan classification report untuk evaluasi lebih lanjut\n",
        "print(\"Classification Report:\")\n",
        "print(classification_report(y_test, y_pred))"
      ],
      "metadata": {
        "colab": {
          "base_uri": "https://localhost:8080/"
        },
        "id": "-9zaStXcxdCH",
        "outputId": "00d44710-b4f2-455c-95a0-b20836aa8e58"
      },
      "execution_count": null,
      "outputs": [
        {
          "output_type": "stream",
          "name": "stdout",
          "text": [
            "Classification Report:\n",
            "              precision    recall  f1-score   support\n",
            "\n",
            "           0       0.82      0.78      0.80       157\n",
            "           1       0.89      0.92      0.91       324\n",
            "\n",
            "    accuracy                           0.87       481\n",
            "   macro avg       0.86      0.85      0.85       481\n",
            "weighted avg       0.87      0.87      0.87       481\n",
            "\n"
          ]
        }
      ]
    },
    {
      "cell_type": "code",
      "source": [
        "from sklearn.metrics import confusion_matrix, ConfusionMatrixDisplay\n",
        "# Hitung confusion matrix\n",
        "cm = confusion_matrix(y_test, y_pred)\n",
        "\n",
        "# Update display_labels to match the actual classes\n",
        "disp = ConfusionMatrixDisplay(confusion_matrix=cm, display_labels=['Metabolic Syndrome', 'No Metabolic Syndrome']) # Changed the labels here\n",
        "disp.plot()\n",
        "plt.show()"
      ],
      "metadata": {
        "colab": {
          "base_uri": "https://localhost:8080/",
          "height": 449
        },
        "id": "IF6BEPmP2AlY",
        "outputId": "8a44a11b-4d15-44fc-bd99-33e6a329a47e"
      },
      "execution_count": null,
      "outputs": [
        {
          "output_type": "display_data",
          "data": {
            "text/plain": [
              "<Figure size 640x480 with 2 Axes>"
            ],
            "image/png": "[encoded data removed]"
          },
          "metadata": {}
        }
      ]
    },
    {
      "cell_type": "code",
      "source": [
        "print(f\"{accuracy:.2f}\")\n",
        "print(f\"{precision:.2f}\")\n",
        "print(f\"{recall:.2f}\")\n",
        "print(f\"{f1_score:.2f}\")"
      ],
      "metadata": {
        "colab": {
          "base_uri": "https://localhost:8080/"
        },
        "id": "LimXEO-8xY0W",
        "outputId": "2a9703d5-2c8b-4034-cac6-0c64f02bab5a"
      },
      "execution_count": null,
      "outputs": [
        {
          "output_type": "stream",
          "name": "stdout",
          "text": [
            "0.87\n",
            "0.87\n",
            "0.87\n",
            "0.87\n"
          ]
        }
      ]
    },
    {
      "cell_type": "markdown",
      "source": [
        "\n",
        "\n",
        "> Tanpa balancing data akurasi model sebesar 87%, Presisi 87%, recall 87% dan F1 score 87%. Pada kelas mayoritas(1) recall 0.92 dan kelas minoritas(0) 0.78, menaandakan model masih kurang untuk mendeteksi kelas minoritas. Model masih kurang baik dalam memprediksi seseorang terkena metabolik sindrom(0)\n",
        "\n"
      ],
      "metadata": {
        "id": "1mvfeNlaBx7a"
      }
    },
    {
      "cell_type": "markdown",
      "source": [
        "**SMOTE**"
      ],
      "metadata": {
        "id": "p5SIFgBNW4nc"
      }
    },
    {
      "cell_type": "code",
      "source": [
        "# Split data\n",
        "X_train, X_test, y_train, y_test = train_test_split(X_smote, y_smote, test_size=0.2, random_state=42)\n",
        "\n",
        "print(f\"Ukuran Data Latih: {X_train.shape}, Ukuran Data Uji: {X_test.shape}\")"
      ],
      "metadata": {
        "colab": {
          "base_uri": "https://localhost:8080/"
        },
        "id": "SVyWgH-JW1cY",
        "outputId": "f6ada1d1-28a7-428e-ef1a-ce20eb45da51"
      },
      "execution_count": null,
      "outputs": [
        {
          "output_type": "stream",
          "name": "stdout",
          "text": [
            "Ukuran Data Latih: (2526, 7), Ukuran Data Uji: (632, 7)\n"
          ]
        }
      ]
    },
    {
      "cell_type": "code",
      "source": [
        "from sklearn.metrics import accuracy_score, precision_score, recall_score, f1_score, classification_report\n",
        "# Inisialisasi Random Forest Classifier\n",
        "rf_model_smote = RandomForestClassifier(random_state=42)\n",
        "\n",
        "# Melatih model\n",
        "rf_model_smote.fit(X_train, y_train)\n",
        "\n",
        "# Pengujian\n",
        "y_pred_smote = rf_model_smote.predict(X_test)\n",
        "\n",
        "# Evaluasi model\n",
        "accuracy2 = accuracy_score(y_test, y_pred_smote)\n",
        "precision2 = precision_score(y_test, y_pred_smote, average='weighted')\n",
        "recall2 = recall_score(y_test, y_pred_smote, average='weighted')\n",
        "f1_score2 = f1_score(y_test, y_pred_smote, average='weighted')\n",
        "\n",
        "# Tampilkan classification report untuk evaluasi lebih lanjut\n",
        "print(\"Classification Report:\")\n",
        "print(classification_report(y_test, y_pred_smote))"
      ],
      "metadata": {
        "colab": {
          "base_uri": "https://localhost:8080/"
        },
        "id": "zlHyzOkQnrXy",
        "outputId": "2ca4b2c6-a473-4725-d581-e5b8cdef8d41"
      },
      "execution_count": null,
      "outputs": [
        {
          "output_type": "stream",
          "name": "stdout",
          "text": [
            "Classification Report:\n",
            "              precision    recall  f1-score   support\n",
            "\n",
            "           0       0.88      0.93      0.90       316\n",
            "           1       0.93      0.87      0.90       316\n",
            "\n",
            "    accuracy                           0.90       632\n",
            "   macro avg       0.90      0.90      0.90       632\n",
            "weighted avg       0.90      0.90      0.90       632\n",
            "\n"
          ]
        }
      ]
    },
    {
      "cell_type": "code",
      "source": [
        "from sklearn.metrics import confusion_matrix, ConfusionMatrixDisplay\n",
        "# Hitung confusion matrix\n",
        "cm = confusion_matrix(y_test, y_pred_smote)\n",
        "\n",
        "disp = ConfusionMatrixDisplay(confusion_matrix=cm, display_labels=['Metabolic Syndrome', 'No Metabolic Syndrome']) # Changed the labels here\n",
        "disp.plot()\n",
        "plt.show()"
      ],
      "metadata": {
        "colab": {
          "base_uri": "https://localhost:8080/",
          "height": 449
        },
        "id": "DfTBdqpr-LRx",
        "outputId": "2ae1b9cb-acde-4bf8-aa1f-5a63d0c0aec5"
      },
      "execution_count": null,
      "outputs": [
        {
          "output_type": "display_data",
          "data": {
            "text/plain": [
              "<Figure size 640x480 with 2 Axes>"
            ],
            "image/png": "[encoded data removed]"
          },
          "metadata": {}
        }
      ]
    },
    {
      "cell_type": "code",
      "source": [
        "print(f\"{accuracy2:.2f}\")\n",
        "print(f\"{precision2:.2f}\")\n",
        "print(f\"{recall2:.2f}\")\n",
        "print(f\"{f1_score2:.2f}\")"
      ],
      "metadata": {
        "colab": {
          "base_uri": "https://localhost:8080/"
        },
        "id": "ETqAwMGVxOon",
        "outputId": "65c5e86b-9f9c-4681-953a-1694a6eee8c6"
      },
      "execution_count": null,
      "outputs": [
        {
          "output_type": "stream",
          "name": "stdout",
          "text": [
            "0.90\n",
            "0.90\n",
            "0.90\n",
            "0.90\n"
          ]
        }
      ]
    },
    {
      "cell_type": "markdown",
      "source": [
        "\n",
        "\n",
        "> Dengan balancing data (SMOTE) akurasi model naik menjadi sebesar 90%, Presisi 90%, recall 90% dan F1 score 90%. Pada kelas mayoritas(1) recall turun 0.87 dan kelas minoritas(0) naik menjadi 0.93, menaandakan model sudah lebih baik dalam mendeteksi kelas minoritas (memprediksi seseorang terkena metabolik sindrom(0))\n",
        "\n"
      ],
      "metadata": {
        "id": "2OnXhusQDDRC"
      }
    },
    {
      "cell_type": "markdown",
      "source": [
        "**ADASYN**"
      ],
      "metadata": {
        "id": "7TH73YhuXK4r"
      }
    },
    {
      "cell_type": "code",
      "source": [
        "# Split data\n",
        "X_train, X_test, y_train, y_test = train_test_split(X_resampled, y_resampled, test_size=0.2, random_state=42)\n",
        "\n",
        "print(f\"Ukuran Data Latih: {X_train.shape}, Ukuran Data Uji: {X_test.shape}\")"
      ],
      "metadata": {
        "colab": {
          "base_uri": "https://localhost:8080/"
        },
        "id": "Yfc4-FcVXLg1",
        "outputId": "a3cb701f-97a5-4a8d-833c-db6cbda35d29"
      },
      "execution_count": null,
      "outputs": [
        {
          "output_type": "stream",
          "name": "stdout",
          "text": [
            "Ukuran Data Latih: (2553, 7), Ukuran Data Uji: (639, 7)\n"
          ]
        }
      ]
    },
    {
      "cell_type": "code",
      "source": [
        "from sklearn.metrics import accuracy_score, precision_score, recall_score, f1_score, classification_report\n",
        "# Inisialisasi Random Forest Classifier\n",
        "rf_model_adasyn = RandomForestClassifier(random_state=42)\n",
        "\n",
        "# Melatih model\n",
        "rf_model_adasyn.fit(X_train, y_train)\n",
        "\n",
        "# Pengujian\n",
        "y_pred_adaysn = rf_model_adasyn.predict(X_test)\n",
        "\n",
        "# Evaluasi model\n",
        "accuracy3 = accuracy_score(y_test, y_pred_adaysn)\n",
        "precision3 = precision_score(y_test, y_pred_adaysn, average='weighted')\n",
        "recall3 = recall_score(y_test, y_pred_adaysn, average='weighted')\n",
        "f1_score3 = f1_score(y_test, y_pred_adaysn, average='weighted')\n",
        "\n",
        "# Tampilkan classification report untuk evaluasi lebih lanjut\n",
        "print(\"Classification Report:\")\n",
        "print(classification_report(y_test, y_pred_adaysn))"
      ],
      "metadata": {
        "colab": {
          "base_uri": "https://localhost:8080/"
        },
        "id": "tbYYMoy6XR-_",
        "outputId": "d3e1e118-838a-41d0-b919-ca676eb45446"
      },
      "execution_count": null,
      "outputs": [
        {
          "output_type": "stream",
          "name": "stdout",
          "text": [
            "Classification Report:\n",
            "              precision    recall  f1-score   support\n",
            "\n",
            "           0       0.87      0.95      0.91       316\n",
            "           1       0.95      0.87      0.90       323\n",
            "\n",
            "    accuracy                           0.91       639\n",
            "   macro avg       0.91      0.91      0.91       639\n",
            "weighted avg       0.91      0.91      0.91       639\n",
            "\n"
          ]
        }
      ]
    },
    {
      "cell_type": "code",
      "source": [
        "from sklearn.metrics import confusion_matrix, ConfusionMatrixDisplay\n",
        "# Hitung confusion matrix\n",
        "cm = confusion_matrix(y_test, y_pred_adaysn)\n",
        "\n",
        "disp = ConfusionMatrixDisplay(confusion_matrix=cm, display_labels=['Metabolic Syndrome', 'No Metabolic Syndrome']) # Changed the labels here\n",
        "disp.plot()\n",
        "plt.show()"
      ],
      "metadata": {
        "colab": {
          "base_uri": "https://localhost:8080/",
          "height": 455
        },
        "id": "SRpYa42o-bND",
        "outputId": "510d6157-83e5-41ed-d828-8801928700fa"
      },
      "execution_count": null,
      "outputs": [
        {
          "output_type": "display_data",
          "data": {
            "text/plain": [
              "<Figure size 640x480 with 2 Axes>"
            ],
            "image/png": "[encoded data removed]"
          },
          "metadata": {}
        }
      ]
    },
    {
      "cell_type": "code",
      "source": [
        "print(f\"{accuracy3:.2f}\")\n",
        "print(f\"{precision3:.2f}\")\n",
        "print(f\"{recall3:.2f}\")\n",
        "print(f\"{f1_score3:.2f}\")"
      ],
      "metadata": {
        "colab": {
          "base_uri": "https://localhost:8080/"
        },
        "id": "MPLyV2PwXT77",
        "outputId": "acc3aaf2-25e3-43df-896c-1fbba92eb75c"
      },
      "execution_count": null,
      "outputs": [
        {
          "output_type": "stream",
          "name": "stdout",
          "text": [
            "0.91\n",
            "0.91\n",
            "0.91\n",
            "0.91\n"
          ]
        }
      ]
    },
    {
      "cell_type": "markdown",
      "source": [
        "\n",
        "\n",
        "> Dengan balancing data (ADASYN) akurasi model naik menjadi sebesar 91%, Presisi 91%, recall 91% dan F1 score 91%. Pada kelas mayoritas(1) recall 0.87 dan kelas minoritas(0) naik menjadi 0.95, menaandakan model sudah lebih baik dibanddingkan dengan SMOTE dalam mendeteksi kelas minoritas (memprediksi seseorang terkena metabolik sindrom(0))\n",
        "\n"
      ],
      "metadata": {
        "id": "itzjwihEDoZB"
      }
    },
    {
      "cell_type": "markdown",
      "source": [
        "Memvisualisasikan perbadingan kaurasi model menggunakan diagram batang"
      ],
      "metadata": {
        "id": "D2k-Nfpmrmj6"
      }
    },
    {
      "cell_type": "code",
      "source": [
        "model = ['Tanpa Balancing', 'SMOTE', 'ADASYN']\n",
        "akurasi_persen = [a * 100 for a in [accuracy, accuracy2, accuracy3]]\n",
        "\n",
        "x = np.arange(len(model))\n",
        "plt.figure(figsize=(8, 5))\n",
        "bars = plt.bar(x, akurasi_persen, width=0.4, color='blue')\n",
        "\n",
        "# Label persen\n",
        "for bar in bars:\n",
        "    plt.text(bar.get_x() + bar.get_width()/2, bar.get_height() + 1, f'{bar.get_height():.0f}%',\n",
        "             ha='center', va='bottom', fontsize=10)\n",
        "\n",
        "# Tampilan\n",
        "plt.xticks(x, model)\n",
        "plt.xlabel('Metode Balancing')\n",
        "plt.ylabel('Akurasi (%)')\n",
        "plt.title('Perbandingan Akurasi Model Berdasarkan Metode Balancing')\n",
        "plt.ylim(0, 110)\n",
        "plt.grid(axis='y', linestyle='--', alpha=0.7)\n",
        "plt.tight_layout()\n",
        "plt.show()"
      ],
      "metadata": {
        "colab": {
          "base_uri": "https://localhost:8080/",
          "height": 507
        },
        "id": "nZSARIBK2Tjw",
        "outputId": "755b32f2-ffa0-4864-99e3-6394ac7ad89b"
      },
      "execution_count": null,
      "outputs": [
        {
          "output_type": "display_data",
          "data": {
            "text/plain": [
              "<Figure size 800x500 with 1 Axes>"
            ],
            "image/png": "[encoded data removed]"
          },
          "metadata": {}
        }
      ]
    },
    {
      "cell_type": "markdown",
      "source": [
        "# KESIMPULAN"
      ],
      "metadata": {
        "id": "uxI0DbcAEWtu"
      }
    },
    {
      "cell_type": "markdown",
      "source": [
        "> Balancing sangat membantu memperbaiki performa model terhadap kelas minoritas.\n",
        "\n",
        "\n",
        "> ADASYN memberikan performa terbaik, karena:\n",
        "- Akurasi lebih tinggi, 91%\n",
        "- Recall kelas minoritas paling tinggi.\n",
        "- F1-score secara keseluruhan juga tertinggi 91%.\n",
        "- Penurunan recall pada kelas mayoritas wajar dan tidak ekstrem, serta diimbangi dengan peningkatan presisi.\n",
        "\n",
        "\n"
      ],
      "metadata": {
        "id": "OGRaFdaIEGmS"
      }
    },
    {
      "cell_type": "markdown",
      "source": [
        "# UJI COBA INPUTAN\n"
      ],
      "metadata": {
        "id": "MsLCKVKQfr5p"
      }
    },
    {
      "cell_type": "markdown",
      "source": [
        "Menurut National Heart, Lung, and Blood Institue seseorang di diagnosa Sindrom metabolik ketika memiliki 3 atau lebih dari kriteria berikut:\n",
        "\n",
        "| Komponen                  | Kriteria Diagnosis                     |\n",
        "| ------------------------- | -------------------------------------- |\n",
        "| **Tekanan darah**         | ≥130/85 mmHg                           |\n",
        "| **Gula darah puasa (Fasting Glucose)**      | ≥100 mg/dL                             |\n",
        "| **Kolesterol HDL (baik)** | <40 mg/dL (pria)<br><50 mg/dL (wanita) |\n",
        "| **Trigliserida**          | >150 mg/dL                             |\n",
        "| **Lingkar pinggang**      | >102 cm (pria)<br>>89 cm (wanita)      |"
      ],
      "metadata": {
        "id": "YKzW6Wszfv9q"
      }
    },
    {
      "cell_type": "code",
      "source": [
        "# hasil uji pria ada 4 kriteria metsyn\n",
        "input = np.array([[22,\t1,\t120,\t17.5,\t110,\t56.0,\t160]])  # Age, Sex[wanita, pria],\tWaistCirc,\tBMI,\tBloodGlucose,\tHDL,\tTriglycerides\n",
        "\n",
        "prediction = rf_model_adasyn.predict(input)\n",
        "\n",
        "if prediction[0] == 0:\n",
        "    print(\"Hasil Prediksi: Met (Positif Sindrom Metabolik)\")\n",
        "else:\n",
        "    print(\"Hasil Prediksi: No Met (Negatif Sindrom Metabolik)\")"
      ],
      "metadata": {
        "colab": {
          "base_uri": "https://localhost:8080/"
        },
        "id": "ayP1-Y9OewCs",
        "outputId": "3017480e-719c-4357-ce32-e62a9b7c52dd"
      },
      "execution_count": null,
      "outputs": [
        {
          "output_type": "stream",
          "name": "stdout",
          "text": [
            "Hasil Prediksi: Met (Positif Sindrom Metabolik)\n"
          ]
        },
        {
          "output_type": "stream",
          "name": "stderr",
          "text": [
            "/usr/local/lib/python3.11/dist-packages/sklearn/utils/validation.py:2739: UserWarning: X does not have valid feature names, but RandomForestClassifier was fitted with feature names\n",
            "  warnings.warn(\n"
          ]
        }
      ]
    },
    {
      "cell_type": "code",
      "source": [
        "# hasil uji wanita ada 4 kriteria metsyn\n",
        "input = np.array([[22,\t0,\t120,\t23.3,\t110,\t56.0,\t160]])  # Age, Sex[wanita, pria],\tWaistCirc,\tBMI,\tBloodGlucose,\tHDL,\tTriglycerides\n",
        "\n",
        "prediction = rf_model_adasyn.predict(input)\n",
        "\n",
        "if prediction[0] == 0:\n",
        "    print(\"Hasil Prediksi: Met (Positif Sindrom Metabolik)\")\n",
        "else:\n",
        "    print(\"Hasil Prediksi: No Met (Negatif Sindrom Metabolik)\")"
      ],
      "metadata": {
        "colab": {
          "base_uri": "https://localhost:8080/"
        },
        "id": "5S5-IY_JgszX",
        "outputId": "30b44f6d-7e8a-442d-9345-f196ccd53610"
      },
      "execution_count": null,
      "outputs": [
        {
          "output_type": "stream",
          "name": "stdout",
          "text": [
            "Hasil Prediksi: Met (Positif Sindrom Metabolik)\n"
          ]
        },
        {
          "output_type": "stream",
          "name": "stderr",
          "text": [
            "/usr/local/lib/python3.11/dist-packages/sklearn/utils/validation.py:2739: UserWarning: X does not have valid feature names, but RandomForestClassifier was fitted with feature names\n",
            "  warnings.warn(\n"
          ]
        }
      ]
    },
    {
      "cell_type": "code",
      "source": [
        "# hasil uji wanita ada 2 kriteria metsyn\n",
        "input = np.array([[39,1,92.4,23.0,133,42.0,98.0]])  # Age, Sex[wanita, pria],\tWaistCirc,\tBMI,\tBloodGlucose,\tHDL,\tTriglycerides\n",
        "\n",
        "prediction = rf_model_adasyn.predict(input)\n",
        "\n",
        "if prediction[0] == 0:\n",
        "    print(\"Hasil Prediksi: Met (Positif Sindrom Metabolik)\")\n",
        "else:\n",
        "    print(\"Hasil Prediksi: No Met (Negatif Sindrom Metabolik)\")"
      ],
      "metadata": {
        "colab": {
          "base_uri": "https://localhost:8080/"
        },
        "id": "s86l0otAf9gJ",
        "outputId": "e703d22f-88b4-4d6c-ecc5-1d933d111c3c"
      },
      "execution_count": null,
      "outputs": [
        {
          "output_type": "stream",
          "name": "stdout",
          "text": [
            "Hasil Prediksi: No Met (Negatif Sindrom Metabolik)\n"
          ]
        },
        {
          "output_type": "stream",
          "name": "stderr",
          "text": [
            "/usr/local/lib/python3.11/dist-packages/sklearn/utils/validation.py:2739: UserWarning: X does not have valid feature names, but RandomForestClassifier was fitted with feature names\n",
            "  warnings.warn(\n"
          ]
        }
      ]
    },
    {
      "cell_type": "markdown",
      "source": [
        "Download model adasyn"
      ],
      "metadata": {
        "id": "EchjJfcth_5Z"
      }
    },
    {
      "cell_type": "code",
      "source": [
        "import joblib\n",
        "\n",
        "joblib.dump(rf_model_adasyn, 'rf_model.pkl')"
      ],
      "metadata": {
        "colab": {
          "base_uri": "https://localhost:8080/"
        },
        "id": "1FxTkQ1Nh_a8",
        "outputId": "6d73796b-7a74-49a4-b2a0-6a39ea79be57"
      },
      "execution_count": null,
      "outputs": [
        {
          "output_type": "execute_result",
          "data": {
            "text/plain": [
              "['rf_model.pkl']"
            ]
          },
          "metadata": {},
          "execution_count": 48
        }
      ]
    },
    {
      "cell_type": "code",
      "source": [
        "model = joblib.load('rf_model.pkl')\n",
        "print(model.predict([[25, 1, 80, 23.5, 100, 45, 150]]))"
      ],
      "metadata": {
        "colab": {
          "base_uri": "https://localhost:8080/"
        },
        "id": "Ng1jIBhZPUtq",
        "outputId": "8aedd560-81a5-4af3-d304-f10e1a9af087"
      },
      "execution_count": null,
      "outputs": [
        {
          "output_type": "stream",
          "name": "stdout",
          "text": [
            "[1]\n"
          ]
        },
        {
          "output_type": "stream",
          "name": "stderr",
          "text": [
            "/usr/local/lib/python3.11/dist-packages/sklearn/utils/validation.py:2739: UserWarning: X does not have valid feature names, but RandomForestClassifier was fitted with feature names\n",
            "  warnings.warn(\n"
          ]
        }
      ]
    },
    {
      "cell_type": "code",
      "source": [
        "comparison_df = X_test.copy()\n",
        "comparison_df[\"Actual\"] = y_test.values if hasattr(y_test, \"values\") else y_test\n",
        "comparison_df[\"Predicted\"] = y_pred_adaysn\n",
        "\n",
        "# 5. Tampilkan beberapa baris sebagai sampel\n",
        "print(\"\\nPerbandingan Data Asli dan Prediksi:\")\n",
        "print(comparison_df.head(10))"
      ],
      "metadata": {
        "colab": {
          "base_uri": "https://localhost:8080/"
        },
        "id": "s0pku5FnPWTP",
        "outputId": "f091d2a7-b8f6-42e1-8247-aa7991ac32ff"
      },
      "execution_count": null,
      "outputs": [
        {
          "output_type": "stream",
          "name": "stdout",
          "text": [
            "\n",
            "Perbandingan Data Asli dan Prediksi:\n",
            "      Age  Sex  WaistCirc   BMI  BloodGlucose   HDL  Triglycerides  Actual  \\\n",
            "1029   39    1       92.4  23.0           133  42.0           98.0       1   \n",
            "1001   25    0       83.2  23.3            86  67.0          127.0       1   \n",
            "785    42    0       95.4  28.9           102  66.0           55.0       1   \n",
            "411    80    1       89.4  23.8           107  31.0           99.0       1   \n",
            "1105   46    0      122.5  35.5            99  46.0          114.0       1   \n",
            "612    21    1      101.6  30.6            95  39.0           73.0       0   \n",
            "610    38    1      104.0  26.9            90  44.0          193.0       0   \n",
            "2268   36    0      112.4  40.8            95  34.0          156.0       0   \n",
            "134    29    0      101.8  29.9           105  64.0          115.0       1   \n",
            "1842   23    0      116.5  38.5            98  40.0           77.0       1   \n",
            "\n",
            "      Predicted  \n",
            "1029          1  \n",
            "1001          1  \n",
            "785           1  \n",
            "411           0  \n",
            "1105          1  \n",
            "612           1  \n",
            "610           0  \n",
            "2268          0  \n",
            "134           1  \n",
            "1842          1  \n"
          ]
        }
      ]
    }
  ]
}